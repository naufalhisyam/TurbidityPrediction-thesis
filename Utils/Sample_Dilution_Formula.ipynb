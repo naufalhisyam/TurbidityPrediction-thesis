{
  "nbformat": 4,
  "nbformat_minor": 0,
  "metadata": {
    "colab": {
      "name": "Sample Dilution Formula",
      "provenance": [],
      "authorship_tag": "ABX9TyM03QR1fWR1bd5NMLVJPfWH",
      "include_colab_link": true
    },
    "kernelspec": {
      "name": "python3",
      "display_name": "Python 3"
    },
    "language_info": {
      "name": "python"
    }
  },
  "cells": [
    {
      "cell_type": "markdown",
      "metadata": {
        "id": "view-in-github",
        "colab_type": "text"
      },
      "source": [
        "<a href=\"https://colab.research.google.com/github/naufalhisyam/TurbidityPrediction-thesis/blob/main/Sample_Dilution_Formula.ipynb\" target=\"_parent\"><img src=\"https://colab.research.google.com/assets/colab-badge.svg\" alt=\"Open In Colab\"/></a>"
      ]
    },
    {
      "cell_type": "markdown",
      "source": [
        "Formula"
      ],
      "metadata": {
        "id": "cVU5ea4r5bL3"
      }
    },
    {
      "cell_type": "code",
      "execution_count": 5,
      "metadata": {
        "id": "BUqOqc7d5TJN"
      },
      "outputs": [],
      "source": [
        "def conc(t): #Required concentration for specific turbidity values\n",
        "  w = 628.48\n",
        "  b = 0.3183\n",
        "  c=(t+b)/w #in litre\n",
        "  cml=(t+b)/(w*1000) #in ml\n",
        "  print(f\"req. concentration = {c} mg/L\")\n",
        "  print(f\"req. concentration = {cml} mg/mL\")\n",
        "\n",
        "def reqwater(t2,t1,v1): #in mL\n",
        "  v2=(t1*v1)/t2\n",
        "  print(f\"req water volume = {v2} mL\")"
      ]
    },
    {
      "cell_type": "code",
      "source": [
        "conc(100)"
      ],
      "metadata": {
        "colab": {
          "base_uri": "https://localhost:8080/"
        },
        "id": "urD4KfU462V9",
        "outputId": "4ac02d00-0e1d-4511-a37c-2447dce55bd1"
      },
      "execution_count": 6,
      "outputs": [
        {
          "output_type": "stream",
          "name": "stdout",
          "text": [
            "req. concentration = 0.15962051298370672 mg/L\n",
            "req. concentration = 0.00015962051298370672 mg/mL\n"
          ]
        }
      ]
    },
    {
      "cell_type": "code",
      "source": [
        "reqwater(1,100,5)"
      ],
      "metadata": {
        "colab": {
          "base_uri": "https://localhost:8080/"
        },
        "id": "gRK4iXUL51hb",
        "outputId": "fbd3121a-19f1-430a-a9c6-44f26978e635"
      },
      "execution_count": 8,
      "outputs": [
        {
          "output_type": "stream",
          "name": "stdout",
          "text": [
            "req water volume = 500.0 mL\n"
          ]
        }
      ]
    },
    {
      "cell_type": "code",
      "source": [
        ""
      ],
      "metadata": {
        "id": "6N_aYRmvItFK"
      },
      "execution_count": null,
      "outputs": []
    }
  ]
}