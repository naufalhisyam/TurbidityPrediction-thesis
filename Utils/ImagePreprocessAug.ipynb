{
  "nbformat": 4,
  "nbformat_minor": 0,
  "metadata": {
    "colab": {
      "name": "TestGrabCut.ipynb",
      "provenance": []
    },
    "kernelspec": {
      "name": "python3",
      "display_name": "Python 3"
    },
    "language_info": {
      "name": "python"
    }
  },
  "cells": [
    {
      "cell_type": "code",
      "source": [
        "import numpy as np\n",
        "import cv2 as cv\n",
        "import os.path\n",
        "import glob\n",
        "import os\n",
        "from matplotlib import pyplot as plt\n",
        "from google.colab.patches import cv2_imshow\n"
      ],
      "metadata": {
        "id": "UO1vdPCEZYhW"
      },
      "execution_count": 1,
      "outputs": []
    },
    {
      "cell_type": "code",
      "source": [
        "path = \"/content/*.jpg\"\n",
        "save_path = \"/content/testing\"\n",
        "\n",
        "if not os.path.exists(save_path):\n",
        "  os.makedirs(save_path)"
      ],
      "metadata": {
        "id": "UJAy9-HH7Sgl"
      },
      "execution_count": 2,
      "outputs": []
    },
    {
      "cell_type": "markdown",
      "source": [
        "AUTOMATION"
      ],
      "metadata": {
        "id": "nn84Z1fI7lR5"
      }
    },
    {
      "cell_type": "code",
      "source": [
        "for file in glob.glob(path):\n",
        "  img = cv.imread(file)\n",
        "  #CROPPING\n",
        "  cropped_image = img[2000:2500, 1000:1500]\n",
        "  #RESIZING\n",
        "  scale_percent = 50\n",
        "  width = int(cropped_image.shape[1] * scale_percent / 100)\n",
        "  height = int(cropped_image.shape[0] * scale_percent / 100)\n",
        "  dsize = (width, height)\n",
        "  resized = cv.resize(cropped_image, dsize, interpolation= cv.INTER_LINEAR)\n",
        "  #AUGMENTATION\n",
        "  rotcw90 = cv.rotate(resized, cv.ROTATE_90_CLOCKWISE)\n",
        "  rotccw90 = cv.rotate(resized, cv.ROTATE_90_COUNTERCLOCKWISE)\n",
        "  rot180 = cv.rotate(resized, cv.ROTATE_180)\n",
        "  flip_vr = cv.flip(resized, 0)\n",
        "  flip_hr = cv.flip(resized, 1)\n",
        "\n",
        "  #SAVING\n",
        "  basename = os.path.basename(file)  # e.g. MyPhoto.jpg\n",
        "  name = os.path.splitext(basename)[0]  # e.g. MyPhoto\n",
        "  cv.imwrite(f'{save_path}/{name}_ori.jpg', resized) #RESIZE\n",
        "  cv.imwrite(f'{save_path}/{name}_cw90.jpg', rotcw90) #ROT CW90\n",
        "  cv.imwrite(f'{save_path}/{name}_ccw90.jpg', rotccw90) #ROT CCW90\n",
        "  cv.imwrite(f'{save_path}/{name}_180.jpg', rot180) #ROT 180\n",
        "  cv.imwrite(f'{save_path}/{name}_vr.jpg', flip_vr) #FLIP VER\n",
        "  cv.imwrite(f'{save_path}/{name}_hr.jpg', flip_hr) #FLIP HOR\n"
      ],
      "metadata": {
        "id": "ywE-ZaPD7Z8j"
      },
      "execution_count": 4,
      "outputs": []
    },
    {
      "cell_type": "code",
      "source": [
        "!zip -r /content/test.zip /content/testing"
      ],
      "metadata": {
        "id": "K91htqmEZXhD"
      },
      "execution_count": null,
      "outputs": []
    }
  ]
}