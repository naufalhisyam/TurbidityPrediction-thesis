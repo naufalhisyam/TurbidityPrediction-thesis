{
 "cells": [
  {
   "cell_type": "code",
   "execution_count": null,
   "metadata": {},
   "outputs": [],
   "source": [
    "import os\n",
    "import numpy as np\n",
    "import pandas as pd\n",
    "import matplotlib.pyplot as plt\n",
    "import tensorflow as tf\n",
    "!pip install tensorflow-addons\n",
    "import tensorflow_addons as tfa\n",
    "from sklearn.model_selection import train_test_split"
   ]
  },
  {
   "cell_type": "code",
   "execution_count": null,
   "metadata": {},
   "outputs": [],
   "source": [
    "!git clone https://github.com/naufalhisyam/TurbidityPrediction-thesis.git\n",
    "os.chdir('/content/TurbidityPrediction-thesis') "
   ]
  },
  {
   "cell_type": "code",
   "execution_count": null,
   "metadata": {},
   "outputs": [],
   "source": [
    "images = pd.read_csv(r'./Datasets/0degree/0degInfo.csv') #load dataset info\n",
    "train_df, test_df = train_test_split(images, train_size=0.9, shuffle=True, random_state=1) #Split into train and test set\n",
    "\n",
    "train_generator = tf.keras.preprocessing.image.ImageDataGenerator(\n",
    "    horizontal_flip=True,\n",
    "    validation_split=0.2\n",
    ")\n",
    "\n",
    "test_generator = tf.keras.preprocessing.image.ImageDataGenerator(\n",
    "    horizontal_flip=True\n",
    ")"
   ]
  },
  {
   "cell_type": "code",
   "execution_count": null,
   "metadata": {},
   "outputs": [],
   "source": [
    "train_images = train_generator.flow_from_dataframe(\n",
    "    dataframe=train_df,\n",
    "    x_col='Filepath',\n",
    "    y_col='Turbidity',\n",
    "    target_size=(224, 224),\n",
    "    color_mode='rgb',\n",
    "    class_mode='raw',\n",
    "    batch_size=32,\n",
    "    shuffle=True,\n",
    "    seed=42,\n",
    "    subset='training'\n",
    ")\n",
    "\n",
    "val_images = train_generator.flow_from_dataframe(\n",
    "    dataframe=train_df,\n",
    "    x_col='Filepath',\n",
    "    y_col='Turbidity',\n",
    "    target_size=(224, 224),\n",
    "    color_mode='rgb',\n",
    "    class_mode='raw',\n",
    "    batch_size=32,\n",
    "    shuffle=True,\n",
    "    seed=42,\n",
    "    subset='validation'\n",
    ")\n",
    "\n",
    "test_images = test_generator.flow_from_dataframe(\n",
    "    dataframe=test_df,\n",
    "    x_col='Filepath',\n",
    "    y_col='Turbidity',\n",
    "    target_size=(224, 224),\n",
    "    color_mode='rgb',\n",
    "    class_mode='raw',\n",
    "    batch_size=32,\n",
    "    shuffle=False\n",
    ")"
   ]
  },
  {
   "cell_type": "markdown",
   "metadata": {},
   "source": [
    "**Plotting Model Graphs**"
   ]
  },
  {
   "cell_type": "code",
   "execution_count": null,
   "metadata": {},
   "outputs": [],
   "source": [
    "model_path = 'path'\n",
    "name = 'tes'\n",
    "model = keras.models.load_model(model_path) #loads saved model\n",
    "\n",
    "pred_turbid = np.squeeze(model.predict(test_images))\n",
    "true_turbid = test_images.labels\n",
    "residuals = true_turbid - pred_turbid"
   ]
  },
  {
   "cell_type": "markdown",
   "metadata": {},
   "source": [
    "Residual Plot"
   ]
  },
  {
   "cell_type": "code",
   "execution_count": null,
   "metadata": {},
   "outputs": [],
   "source": [
    "f, axs = plt.subplots(1, 2, figsize=(8,5), gridspec_kw={'width_ratios': [4, 1]})\n",
    "\n",
    "axs[0].scatter(pred_turbid,residuals)\n",
    "axs[0].set_title('Residual Plot dari Model ResNet50', fontsize=13, fontweight='bold')           \n",
    "axs[0].set_ylabel('Residual (NTU)')\n",
    "axs[0].set_xlabel('Predicted Turbidity (NTU)')      \n",
    "axs[0].axhline(0, color='black')\n",
    "axs[0].grid()\n",
    "\n",
    "axs[1].hist(residuals, bins=40, orientation=\"horizontal\", density=True)\n",
    "axs[1].axhline(0, color='black')\n",
    "axs[1].set_xlabel('Distribution')  \n",
    "axs[1].yaxis.tick_right()\n",
    "axs[1].grid(axis='y')\n",
    "\n",
    "plt.subplots_adjust(wspace=0.05)\n",
    "plt.savefig(f'saved_model/{name}/residualPlot_{name}.png', dpi=150)\n",
    "plt.show()"
   ]
  },
  {
   "cell_type": "markdown",
   "metadata": {},
   "source": [
    "Measured vs Predicted Plot"
   ]
  },
  {
   "cell_type": "code",
   "execution_count": null,
   "metadata": {},
   "outputs": [],
   "source": [
    "fig, ax = plt.subplots()\n",
    "ax.scatter(true_turbid, pred_turbid)\n",
    "ax.axline([0, 0], [1, 1])\n",
    "#ax.plot([true_turbid.min(), true_turbid.max()], [true_turbid.min(), true_turbid.max()], 'k--', lw=4)\n",
    "ax.set_xlabel('Measured Turbidity (NTU)')\n",
    "ax.set_ylabel('Predicted Turbidity (NTU)')\n",
    "ax.set_title('Nilai Turbiditas Prediksi vs Observasi')\n",
    "ax.set_xlim([0, 200])\n",
    "ax.set_ylim([0, 200])\n",
    "plt.savefig(f'plots/{name}/residualPlot_{name}.png', dpi=150)\n",
    "plt.show()"
   ]
  },
  {
   "cell_type": "markdown",
   "metadata": {},
   "source": [
    "Training History"
   ]
  },
  {
   "cell_type": "code",
   "execution_count": null,
   "metadata": {},
   "outputs": [],
   "source": [
    "history = pd.read_csv(f'{model_path}/history.csv')\n",
    "\n",
    "loss = history['loss']\n",
    "val_loss = history['val_loss']\n",
    "ma_error = history['mae']\n",
    "val_ma_error = history['val_mae']\n",
    "r2 = history['R2']\n",
    "val_r2 = history['val_R2']\n",
    "ms_error = history['mse']\n",
    "val_ms_error = history['val_mse']"
   ]
  },
  {
   "cell_type": "code",
   "execution_count": null,
   "metadata": {},
   "outputs": [],
   "source": [
    "epochs = range(1, len(loss) + 1)\n",
    "\n",
    "f, axs = plt.subplots(2, 2, figsize=(12,12))\n",
    "axs[0][0].plot(epochs, loss, 'tab:orange', label='train_loss (huber)')\n",
    "axs[0][0].plot(epochs, val_loss, 'tab:blue', label='val_loss (huber)')\n",
    "axs[0][0].set_title('Loss selama Training', fontsize=13, fontweight='bold')\n",
    "axs[0][0].set_xlabel('Epoch')\n",
    "axs[0][0].set_ylabel('Loss')\n",
    "axs[0][0].legend(facecolor='white')\n",
    "axs[0][0].grid()\n",
    "\n",
    "axs[0][1].plot(epochs, ms_error, 'tab:orange', label='train_mse')\n",
    "axs[0][1].plot(epochs, val_ms_error, 'tab:blue', label='val_mse')\n",
    "axs[0][1].set_title('MSE selama Training', fontsize=13, fontweight='bold')\n",
    "axs[0][1].set_xlabel('Epoch')\n",
    "axs[0][1].set_ylabel('MSE')\n",
    "axs[0][1].legend(facecolor='white')\n",
    "axs[0][1].grid()\n",
    "\n",
    "axs[1][0].plot(epochs, ma_error, 'tab:orange', label='train_mae')\n",
    "axs[1][0].plot(epochs, val_ma_error, 'tab:blue', label='val_mae')\n",
    "axs[1][0].set_title('MAE selama Training', fontsize=13, fontweight='bold')\n",
    "axs[1][0].set_xlabel('Epoch')\n",
    "axs[1][0].set_ylabel('MAE')\n",
    "axs[1][0].legend(facecolor='white')\n",
    "axs[1][0].grid()\n",
    "\n",
    "axs[1][1].plot(epochs, r2, 'tab:orange', label='train_R2')\n",
    "axs[1][1].plot(epochs, val_r2, 'tab:blue', label='val_R2')\n",
    "axs[1][1].set_title('$R^2$ selama Training', fontsize=13, fontweight='bold')\n",
    "axs[1][1].set_xlabel('Epoch')\n",
    "axs[1][1].set_ylabel('$R^2$')\n",
    "axs[1][1].legend(facecolor='white')\n",
    "axs[1][1].grid()\n",
    "\n",
    "plt.tight_layout()\n",
    "plt.savefig(f'saved_model/{name}/trainPlot_{name}.png', dpi=150)\n",
    "plt.show()"
   ]
  }
 ],
 "metadata": {
  "language_info": {
   "name": "python"
  },
  "orig_nbformat": 4
 },
 "nbformat": 4,
 "nbformat_minor": 2
}
