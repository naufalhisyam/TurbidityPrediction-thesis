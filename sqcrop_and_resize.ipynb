{
  "nbformat": 4,
  "nbformat_minor": 0,
  "metadata": {
    "colab": {
      "name": "sqcrop_and_resize.ipynb",
      "provenance": [],
      "collapsed_sections": [],
      "authorship_tag": "ABX9TyOngrRJcJVP09uNg6+r972T",
      "include_colab_link": true
    },
    "kernelspec": {
      "name": "python3",
      "display_name": "Python 3"
    },
    "language_info": {
      "name": "python"
    }
  },
  "cells": [
    {
      "cell_type": "markdown",
      "metadata": {
        "id": "view-in-github",
        "colab_type": "text"
      },
      "source": [
        "<a href=\"https://colab.research.google.com/github/naufalhisyam/TurbidityPrediction-thesis/blob/main/sqcrop_and_resize.ipynb\" target=\"_parent\"><img src=\"https://colab.research.google.com/assets/colab-badge.svg\" alt=\"Open In Colab\"/></a>"
      ]
    },
    {
      "cell_type": "code",
      "source": [
        "from google.colab import drive\n",
        "drive.mount('/content/gdrive')"
      ],
      "metadata": {
        "id": "acLvjOf3-6Tp"
      },
      "execution_count": null,
      "outputs": []
    },
    {
      "cell_type": "code",
      "execution_count": null,
      "metadata": {
        "id": "HbocdbUt8rP2"
      },
      "outputs": [],
      "source": [
        "import cv2 as cv\n",
        "import os\n",
        "import os.path\n",
        "!pip install imutils\n",
        "import imutils\n",
        "\n",
        "dataset_name = \"0deg_LED_resized\"\n",
        "your_dir_path = '/content/gdrive/MyDrive/DATA/PNG/0deg_LED_png' \n",
        "new_dir_path = f'/content/{dataset_name}'\n",
        "if not os.path.exists(new_dir_path):\n",
        "  os.makedirs(new_dir_path)"
      ]
    },
    {
      "cell_type": "code",
      "source": [
        "for subfolder in next(os.walk(your_dir_path))[1] : # Gives the list of all subdirectories inside the parent directory\n",
        "  os.makedirs(os.path.join(new_dir_path, subfolder)) # Creates the new subdirectory. Note that it will also create new_dir_path, so there's no need to add a line os.makedirs(new_dir_path)\n",
        "  for file in os.listdir(os.path.join(your_dir_path, subfolder)) : # Gives the list of all files inside the 'subfolder' directory\n",
        "    if file.endswith('.png'):  \n",
        "      print(\"processing\" + str(file))\n",
        "      size = len(file)\n",
        "      filename = file[:size - 4]\n",
        "      src = cv2.imread(os.path.join(your_dir_path, subfolder, file))\n",
        "\n",
        "      #Crop the image into square\n",
        "      flipped = cv2.flip(src, 0)\n",
        "      height, width = flipped.shape[0:2]\n",
        "      fcropped = flipped[0:width,0:width]\n",
        "      cropped = cv2.flip(fcropped, 0)\n",
        "\n",
        "      #Resize the image to 224x224 px\n",
        "      out = imutils.resize(cropped, width=224, inter=cv2.INTER_AREA)\n",
        "      #Save the image\n",
        "      cv2.imwrite(os.path.join(new_dir_path, subfolder, f'{filename}.png'), out)"
      ],
      "metadata": {
        "id": "2wBCzAJp809s"
      },
      "execution_count": null,
      "outputs": []
    },
    {
      "cell_type": "code",
      "source": [
        "save_path = f\"/content/gdrive/MyDrive/DATA/TRAINING/{dataset_name}\"\n",
        "if not os.path.exists(save_path):\n",
        "  os.makedirs(save_path)\n",
        "\n",
        "oripath = new_dir_path + \"/.\"\n",
        "!cp -a \"{oripath}\" \"{save_path}\" # copies files to google drive"
      ],
      "metadata": {
        "id": "U2UsSib6-9n2"
      },
      "execution_count": null,
      "outputs": []
    }
  ]
}