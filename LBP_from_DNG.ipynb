{
  "nbformat": 4,
  "nbformat_minor": 0,
  "metadata": {
    "colab": {
      "name": "LBP from DNG",
      "provenance": [],
      "authorship_tag": "ABX9TyMjWK/+rfaLCPVO0Wp73Xbj",
      "include_colab_link": true
    },
    "kernelspec": {
      "name": "python3",
      "display_name": "Python 3"
    },
    "language_info": {
      "name": "python"
    }
  },
  "cells": [
    {
      "cell_type": "markdown",
      "metadata": {
        "id": "view-in-github",
        "colab_type": "text"
      },
      "source": [
        "<a href=\"https://colab.research.google.com/github/naufalhisyam/TurbidityPrediction-thesis/blob/main/LBP_from_DNG.ipynb\" target=\"_parent\"><img src=\"https://colab.research.google.com/assets/colab-badge.svg\" alt=\"Open In Colab\"/></a>"
      ]
    },
    {
      "cell_type": "code",
      "source": [
        "!pip install rawpy"
      ],
      "metadata": {
        "colab": {
          "base_uri": "https://localhost:8080/"
        },
        "id": "thpdFPxPvjl1",
        "outputId": "703ed523-4e5a-43e3-a2c2-07b0ed0b7f05"
      },
      "execution_count": 1,
      "outputs": [
        {
          "output_type": "stream",
          "name": "stdout",
          "text": [
            "Collecting rawpy\n",
            "  Downloading rawpy-0.17.0-cp37-cp37m-manylinux_2_17_x86_64.manylinux2014_x86_64.whl (2.2 MB)\n",
            "\u001b[K     |████████████████████████████████| 2.2 MB 5.3 MB/s \n",
            "\u001b[?25hRequirement already satisfied: numpy in /usr/local/lib/python3.7/dist-packages (from rawpy) (1.21.5)\n",
            "Installing collected packages: rawpy\n",
            "Successfully installed rawpy-0.17.0\n"
          ]
        }
      ]
    },
    {
      "cell_type": "code",
      "source": [
        "from google.colab import drive\n",
        "drive.mount('/content/gdrive')"
      ],
      "metadata": {
        "id": "Up0ZsVHfyMy0"
      },
      "execution_count": null,
      "outputs": []
    },
    {
      "cell_type": "code",
      "source": [
        "import os\n",
        "\n",
        "path = \"/content/gdrive/MyDrive/tes_citra\""
      ],
      "metadata": {
        "id": "6nfwOVuqyOg6"
      },
      "execution_count": null,
      "outputs": []
    },
    {
      "cell_type": "code",
      "execution_count": null,
      "metadata": {
        "id": "Grer0yjFvVzN"
      },
      "outputs": [],
      "source": [
        "import cv2\n",
        "import rawpy\n",
        "import numpy as np\n",
        "from matplotlib import pyplot as plt\n",
        "   \n",
        "      \n",
        "def get_pixel(img, center, x, y):\n",
        "      \n",
        "    new_value = 0\n",
        "      \n",
        "    try:\n",
        "        # If local neighbourhood pixel \n",
        "        # value is greater than or equal\n",
        "        # to center pixel values then \n",
        "        # set it to 1\n",
        "        if img[x][y] >= center:\n",
        "            new_value = 1\n",
        "              \n",
        "    except:\n",
        "        # Exception is required when \n",
        "        # neighbourhood value of a center\n",
        "        # pixel value is null i.e. values\n",
        "        # present at boundaries.\n",
        "        pass\n",
        "      \n",
        "    return new_value\n",
        "   \n",
        "# Function for calculating LBP\n",
        "def lbp_calculated_pixel(img, x, y):\n",
        "   \n",
        "    center = img[x][y]\n",
        "   \n",
        "    val_ar = []\n",
        "      \n",
        "    # top_left\n",
        "    val_ar.append(get_pixel(img, center, x-1, y-1))\n",
        "      \n",
        "    # top\n",
        "    val_ar.append(get_pixel(img, center, x-1, y))\n",
        "      \n",
        "    # top_right\n",
        "    val_ar.append(get_pixel(img, center, x-1, y + 1))\n",
        "      \n",
        "    # right\n",
        "    val_ar.append(get_pixel(img, center, x, y + 1))\n",
        "      \n",
        "    # bottom_right\n",
        "    val_ar.append(get_pixel(img, center, x + 1, y + 1))\n",
        "      \n",
        "    # bottom\n",
        "    val_ar.append(get_pixel(img, center, x + 1, y))\n",
        "      \n",
        "    # bottom_left\n",
        "    val_ar.append(get_pixel(img, center, x + 1, y-1))\n",
        "      \n",
        "    # left\n",
        "    val_ar.append(get_pixel(img, center, x, y-1))\n",
        "       \n",
        "    # Now, we need to convert binary\n",
        "    # values to decimal\n",
        "    power_val = [1, 2, 4, 8, 16, 32, 64, 128]\n",
        "   \n",
        "    val = 0\n",
        "      \n",
        "    for i in range(len(val_ar)):\n",
        "        val += val_ar[i] * power_val[i]\n",
        "          \n",
        "    return val\n"
      ]
    },
    {
      "cell_type": "code",
      "source": [
        "name = ''\n",
        "path = 'GFG.png'\n",
        "raw = rawpy.imread(path)\n",
        "rgb = raw.postprocess()\n",
        "img_bgr = rgb\n",
        "   \n",
        "height, width, _ = img_bgr.shape\n",
        "   \n",
        "# We need to convert RGB image \n",
        "# into gray one because gray \n",
        "# image has one channel only.\n",
        "img_gray = cv2.cvtColor(img_bgr,\n",
        "                        cv2.COLOR_BGR2GRAY)\n",
        "   \n",
        "# Create a numpy array as \n",
        "# the same height and width \n",
        "# of RGB image\n",
        "img_lbp = np.zeros((height, width),\n",
        "                   np.uint8)\n",
        "   \n",
        "for i in range(0, height):\n",
        "    for j in range(0, width):\n",
        "        img_lbp[i, j] = lbp_calculated_pixel(img_gray, i, j)\n",
        "  \n",
        "plt.imshow(img_bgr)\n",
        "plt.show()\n",
        "   \n",
        "plt.imshow(img_lbp, cmap =\"gray\")\n",
        "plt.show()\n",
        "\n",
        "os.makedirs(\"/content/gdrive/MyDrive/tes_citra/hasil\", exist_ok=True)\n",
        "!cp -a \"/content/hasil/.\" \"/content/gdrive/MyDrive/tes_citra/hasil\"\n",
        "cv2.imwrite(f'/content/hasil/{name}_lbp.jpg', img_lbp)\n",
        "   \n",
        "print(\"LBP Program is finished\")"
      ],
      "metadata": {
        "id": "rygvD3NZvi1v"
      },
      "execution_count": null,
      "outputs": []
    }
  ]
}