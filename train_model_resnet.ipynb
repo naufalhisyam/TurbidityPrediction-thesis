{
  "cells": [
    {
      "cell_type": "markdown",
      "metadata": {
        "colab_type": "text",
        "id": "view-in-github"
      },
      "source": [
        "<a href=\"https://colab.research.google.com/github/naufalhisyam/TurbidityPrediction-thesis/blob/main/model_resnet.ipynb\" target=\"_parent\"><img src=\"https://colab.research.google.com/assets/colab-badge.svg\" alt=\"Open In Colab\"/></a>"
      ]
    },
    {
      "cell_type": "code",
      "execution_count": 1,
      "metadata": {
        "id": "DpSYbrzpM90P"
      },
      "outputs": [],
      "source": [
        "import os\n",
        "import numpy as np\n",
        "import pandas as pd\n",
        "import tensorflow as tf\n",
        "!pip install tensorflow-addons\n",
        "import tensorflow_addons as tfa\n",
        "from sklearn.model_selection import train_test_split"
      ]
    },
    {
      "cell_type": "code",
      "execution_count": null,
      "metadata": {},
      "outputs": [],
      "source": [
        "!git clone https://github.com/naufalhisyam/TurbidityPrediction-thesis.git\n",
        "os.chdir('/content/TurbidityPrediction-thesis') "
      ]
    },
    {
      "cell_type": "markdown",
      "metadata": {
        "id": "1CrL24L20ir7"
      },
      "source": [
        "**PREPARING DATASET**"
      ]
    },
    {
      "cell_type": "code",
      "execution_count": null,
      "metadata": {},
      "outputs": [],
      "source": [
        "images = pd.read_csv(r'./Datasets/0degree/0degInfo.csv') #load dataset info\n",
        "train_df, test_df = train_test_split(images, train_size=0.9, shuffle=True, random_state=1) #Split into train and test set"
      ]
    },
    {
      "cell_type": "code",
      "execution_count": null,
      "metadata": {},
      "outputs": [],
      "source": [
        "train_generator = tf.keras.preprocessing.image.ImageDataGenerator(\n",
        "    rescale=1./255,\n",
        "    horizontal_flip=True,\n",
        "    validation_split=0.2\n",
        ")\n",
        "\n",
        "test_generator = tf.keras.preprocessing.image.ImageDataGenerator(\n",
        "    rescale=1./255,\n",
        "    horizontal_flip=True\n",
        ")"
      ]
    },
    {
      "cell_type": "code",
      "execution_count": null,
      "metadata": {},
      "outputs": [],
      "source": [
        "train_images = train_generator.flow_from_dataframe(\n",
        "    dataframe=train_df,\n",
        "    x_col='Filepath',\n",
        "    y_col='Turbidity',\n",
        "    target_size=(224, 224),\n",
        "    color_mode='rgb',\n",
        "    class_mode='raw',\n",
        "    batch_size=32,\n",
        "    shuffle=True,\n",
        "    seed=42,\n",
        "    subset='training'\n",
        ")\n",
        "\n",
        "val_images = train_generator.flow_from_dataframe(\n",
        "    dataframe=train_df,\n",
        "    x_col='Filepath',\n",
        "    y_col='Turbidity',\n",
        "    target_size=(224, 224),\n",
        "    color_mode='rgb',\n",
        "    class_mode='raw',\n",
        "    batch_size=32,\n",
        "    shuffle=True,\n",
        "    seed=42,\n",
        "    subset='validation'\n",
        ")\n",
        "\n",
        "test_images = test_generator.flow_from_dataframe(\n",
        "    dataframe=test_df,\n",
        "    x_col='Filepath',\n",
        "    y_col='Turbidity',\n",
        "    target_size=(224, 224),\n",
        "    color_mode='rgb',\n",
        "    class_mode='raw',\n",
        "    batch_size=32,\n",
        "    shuffle=False\n",
        ")"
      ]
    },
    {
      "cell_type": "markdown",
      "metadata": {},
      "source": [
        "**CREATING THE MODEL**"
      ]
    },
    {
      "cell_type": "markdown",
      "metadata": {
        "id": "eyGUAtAJdnFQ"
      },
      "source": [
        "Defining"
      ]
    },
    {
      "cell_type": "code",
      "execution_count": 2,
      "metadata": {
        "id": "rQToQ6MENCTt"
      },
      "outputs": [],
      "source": [
        "def get_model():\n",
        "    #Create model\n",
        "    base_model = tf.keras.applications.ResNet50(include_top=False, weights=None, \n",
        "                                                input_shape=(224, 224, 3), pooling='avg')\n",
        "    out = base_model.output\n",
        "    prediction = tf.keras.layers.Dense(1, activation=\"linear\")(out)\n",
        "    model = tf.keras.Model(inputs = base_model.input, outputs = prediction)\n",
        "\n",
        "    #Compile the model\n",
        "    opt = tf.keras.optimizers.Adam(learning_rate=1e-3, decay=1e-3 / 200)\n",
        "    model.compile(loss=\"mse\", optimizer=opt,\n",
        "                  metrics=['mse', 'mae', tfa.metrics.RSquare(name=\"R2\")])\n",
        "    \n",
        "    return model\n",
        "\n",
        "model = get_model()\n",
        "tf.test.gpu_device_name()"
      ]
    },
    {
      "cell_type": "markdown",
      "metadata": {
        "id": "Z1rINXUigLTK"
      },
      "source": [
        "Training Callbacks"
      ]
    },
    {
      "cell_type": "code",
      "execution_count": null,
      "metadata": {},
      "outputs": [],
      "source": [
        "from matplotlib import pyplot as plt\n",
        "from IPython.display import clear_output\n",
        "\n",
        "class PlotLearning(keras.callbacks.Callback):\n",
        "    \"\"\"\n",
        "    Callback to plot the learning curves of the model during training.\n",
        "    \"\"\"\n",
        "    def on_train_begin(self, logs={}):\n",
        "        self.metrics = {}\n",
        "        for metric in logs:\n",
        "            self.metrics[metric] = []\n",
        "            \n",
        "\n",
        "    def on_epoch_end(self, epoch, logs={}):\n",
        "        # Storing metrics\n",
        "        for metric in logs:\n",
        "            if metric in self.metrics:\n",
        "                self.metrics[metric].append(logs.get(metric))\n",
        "            else:\n",
        "                self.metrics[metric] = [logs.get(metric)]\n",
        "        \n",
        "        # Plotting\n",
        "        metrics = [x for x in logs if 'val' not in x]\n",
        "        \n",
        "        f, axs = plt.subplots(1, len(metrics), figsize=(15,5))\n",
        "        clear_output(wait=True)\n",
        "\n",
        "        for i, metric in enumerate(metrics):\n",
        "            axs[i].plot(range(1, epoch + 2), \n",
        "                        self.metrics[metric], \n",
        "                        label=metric)\n",
        "            if logs['val_' + metric]:\n",
        "                axs[i].plot(range(1, epoch + 2), \n",
        "                            self.metrics['val_' + metric], \n",
        "                            label='val_' + metric)\n",
        "                \n",
        "            axs[i].legend()\n",
        "            axs[i].grid()\n",
        "\n",
        "        plt.tight_layout()\n",
        "        plt.show()\n",
        "        \n",
        "earlyStop = tf.keras.callbacks.EarlyStopping(monitor='val_loss', \n",
        "                                         patience=5,restore_best_weights=True)"
      ]
    },
    {
      "cell_type": "markdown",
      "metadata": {},
      "source": [
        "Training Model"
      ]
    },
    {
      "cell_type": "code",
      "execution_count": null,
      "metadata": {
        "id": "zV2nFqfLf5yB"
      },
      "outputs": [],
      "source": [
        "history = model.fit(train_images, validation_data=val_images, \n",
        "                    epochs=60, batch_size=8, callbacks=[PlotLearning(), earlyStop], verbose=1)"
      ]
    },
    {
      "cell_type": "code",
      "execution_count": null,
      "metadata": {},
      "outputs": [],
      "source": [
        "name = 'tes'\n",
        "model.save(f'saved_model/{name}') #Saves the trained model"
      ]
    },
    {
      "cell_type": "markdown",
      "metadata": {
        "id": "z7FnC4Q2gXGL"
      },
      "source": [
        "Train Summary"
      ]
    },
    {
      "cell_type": "code",
      "execution_count": null,
      "metadata": {
        "id": "4ulR_BoUQ0fT"
      },
      "outputs": [],
      "source": [
        "#tf.keras.utils.plot_model(model, \"my_first_model.png\", show_shapes=False)"
      ]
    }
  ],
  "metadata": {
    "colab": {
      "authorship_tag": "ABX9TyMeTz3qF8B9GYvbBqtfP45H",
      "collapsed_sections": [],
      "include_colab_link": true,
      "name": "model_resnet.ipynb",
      "provenance": []
    },
    "kernelspec": {
      "display_name": "Python 3",
      "name": "python3"
    },
    "language_info": {
      "name": "python"
    }
  },
  "nbformat": 4,
  "nbformat_minor": 0
}
