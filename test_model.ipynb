{
  "cells": [
    {
      "cell_type": "markdown",
      "metadata": {
        "id": "view-in-github",
        "colab_type": "text"
      },
      "source": [
        "<a href=\"https://colab.research.google.com/github/naufalhisyam/TurbidityPrediction-thesis/blob/main/test_model.ipynb\" target=\"_parent\"><img src=\"https://colab.research.google.com/assets/colab-badge.svg\" alt=\"Open In Colab\"/></a>"
      ]
    },
    {
      "cell_type": "code",
      "execution_count": 1,
      "metadata": {
        "colab": {
          "base_uri": "https://localhost:8080/"
        },
        "id": "DIhNg2zIIn43",
        "outputId": "f2f6cc86-9cdb-48f6-9193-e8af26b58a8c"
      },
      "outputs": [
        {
          "output_type": "stream",
          "name": "stdout",
          "text": [
            "Looking in indexes: https://pypi.org/simple, https://us-python.pkg.dev/colab-wheels/public/simple/\n",
            "Collecting tensorflow-addons\n",
            "  Downloading tensorflow_addons-0.17.1-cp37-cp37m-manylinux_2_17_x86_64.manylinux2014_x86_64.whl (1.1 MB)\n",
            "\u001b[K     |████████████████████████████████| 1.1 MB 29.4 MB/s \n",
            "\u001b[?25hRequirement already satisfied: packaging in /usr/local/lib/python3.7/dist-packages (from tensorflow-addons) (21.3)\n",
            "Requirement already satisfied: typeguard>=2.7 in /usr/local/lib/python3.7/dist-packages (from tensorflow-addons) (2.7.1)\n",
            "Requirement already satisfied: pyparsing!=3.0.5,>=2.0.2 in /usr/local/lib/python3.7/dist-packages (from packaging->tensorflow-addons) (3.0.9)\n",
            "Installing collected packages: tensorflow-addons\n",
            "Successfully installed tensorflow-addons-0.17.1\n"
          ]
        }
      ],
      "source": [
        "import os\n",
        "import numpy as np\n",
        "import pandas as pd\n",
        "import matplotlib.pyplot as plt\n",
        "import tensorflow as tf\n",
        "!pip install tensorflow-addons\n",
        "import tensorflow_addons as tfa\n",
        "from sklearn.model_selection import train_test_split"
      ]
    },
    {
      "cell_type": "code",
      "execution_count": 2,
      "metadata": {
        "colab": {
          "base_uri": "https://localhost:8080/"
        },
        "id": "mzatsb06In49",
        "outputId": "457dded8-1621-439e-94be-2933a33bb21a"
      },
      "outputs": [
        {
          "output_type": "stream",
          "name": "stdout",
          "text": [
            "Mounted at /content/gdrive\n"
          ]
        }
      ],
      "source": [
        "from google.colab import drive\n",
        "drive.mount('/content/gdrive')"
      ]
    },
    {
      "cell_type": "code",
      "execution_count": 3,
      "metadata": {
        "colab": {
          "base_uri": "https://localhost:8080/"
        },
        "id": "HLgJ9pNFIn4-",
        "outputId": "acb1df0e-16c0-422b-85fb-bd2b90b4a230"
      },
      "outputs": [
        {
          "output_type": "stream",
          "name": "stdout",
          "text": [
            "Cloning into 'TurbidityPrediction-thesis'...\n",
            "remote: Enumerating objects: 3129, done.\u001b[K\n",
            "remote: Counting objects: 100% (139/139), done.\u001b[K\n",
            "remote: Compressing objects: 100% (114/114), done.\u001b[K\n",
            "remote: Total 3129 (delta 47), reused 107 (delta 25), pack-reused 2990\u001b[K\n",
            "Receiving objects: 100% (3129/3129), 674.41 MiB | 28.99 MiB/s, done.\n",
            "Resolving deltas: 100% (176/176), done.\n",
            "Checking out files: 100% (3484/3484), done.\n"
          ]
        }
      ],
      "source": [
        "!git clone https://github.com/naufalhisyam/TurbidityPrediction-thesis.git\n",
        "os.chdir('/content/TurbidityPrediction-thesis') "
      ]
    },
    {
      "cell_type": "markdown",
      "metadata": {
        "id": "V4-H6ee_OtAo"
      },
      "source": [
        "**Loading Model**"
      ]
    },
    {
      "cell_type": "code",
      "execution_count": 20,
      "metadata": {
        "id": "oDHqf3Ligrtz"
      },
      "outputs": [],
      "source": [
        "arch = 'ResNet'\n",
        "name = 'ResNet_0deg_withTL'\n",
        "degree = '0'\n",
        "fold = 3\n",
        "\n",
        "model_path = f\"/content/gdrive/MyDrive/MODEL BERHASIL/tes2/{arch}/{name}/{name}\""
      ]
    },
    {
      "cell_type": "code",
      "execution_count": null,
      "metadata": {},
      "outputs": [],
      "source": [
        "cv = pd.read_csv(f'{model_path}/cross_val.csv')\n",
        "cv"
      ]
    },
    {
      "cell_type": "code",
      "source": [
        "cv = pd.read_csv(f'{model_path}/cross_val.csv')\n",
        "cv"
      ],
      "metadata": {
        "id": "GFdFyrxMjLyS",
        "outputId": "85f65aba-bd93-429e-9d4e-39aee8ded13b",
        "colab": {
          "base_uri": "https://localhost:8080/",
          "height": 206
        }
      },
      "execution_count": 5,
      "outputs": [
        {
          "output_type": "execute_result",
          "data": {
            "text/plain": [
              "   Unnamed: 0  val_loss   val_mae    val_mse    val_R2\n",
              "0           0  4.881194  5.354495  50.431221  0.960423\n",
              "1           1  4.283998  4.756491  35.673187  0.973120\n",
              "2           2  3.944146  4.416936  31.578817  0.978600\n",
              "3           3  5.714834  6.206819  61.731964  0.955554\n",
              "4           4  5.693227  6.165340  63.545792  0.948416"
            ],
            "text/html": [
              "\n",
              "  <div id=\"df-ceccc73f-4b52-4723-9f19-959a0f8c01c2\">\n",
              "    <div class=\"colab-df-container\">\n",
              "      <div>\n",
              "<style scoped>\n",
              "    .dataframe tbody tr th:only-of-type {\n",
              "        vertical-align: middle;\n",
              "    }\n",
              "\n",
              "    .dataframe tbody tr th {\n",
              "        vertical-align: top;\n",
              "    }\n",
              "\n",
              "    .dataframe thead th {\n",
              "        text-align: right;\n",
              "    }\n",
              "</style>\n",
              "<table border=\"1\" class=\"dataframe\">\n",
              "  <thead>\n",
              "    <tr style=\"text-align: right;\">\n",
              "      <th></th>\n",
              "      <th>Unnamed: 0</th>\n",
              "      <th>val_loss</th>\n",
              "      <th>val_mae</th>\n",
              "      <th>val_mse</th>\n",
              "      <th>val_R2</th>\n",
              "    </tr>\n",
              "  </thead>\n",
              "  <tbody>\n",
              "    <tr>\n",
              "      <th>0</th>\n",
              "      <td>0</td>\n",
              "      <td>4.881194</td>\n",
              "      <td>5.354495</td>\n",
              "      <td>50.431221</td>\n",
              "      <td>0.960423</td>\n",
              "    </tr>\n",
              "    <tr>\n",
              "      <th>1</th>\n",
              "      <td>1</td>\n",
              "      <td>4.283998</td>\n",
              "      <td>4.756491</td>\n",
              "      <td>35.673187</td>\n",
              "      <td>0.973120</td>\n",
              "    </tr>\n",
              "    <tr>\n",
              "      <th>2</th>\n",
              "      <td>2</td>\n",
              "      <td>3.944146</td>\n",
              "      <td>4.416936</td>\n",
              "      <td>31.578817</td>\n",
              "      <td>0.978600</td>\n",
              "    </tr>\n",
              "    <tr>\n",
              "      <th>3</th>\n",
              "      <td>3</td>\n",
              "      <td>5.714834</td>\n",
              "      <td>6.206819</td>\n",
              "      <td>61.731964</td>\n",
              "      <td>0.955554</td>\n",
              "    </tr>\n",
              "    <tr>\n",
              "      <th>4</th>\n",
              "      <td>4</td>\n",
              "      <td>5.693227</td>\n",
              "      <td>6.165340</td>\n",
              "      <td>63.545792</td>\n",
              "      <td>0.948416</td>\n",
              "    </tr>\n",
              "  </tbody>\n",
              "</table>\n",
              "</div>\n",
              "      <button class=\"colab-df-convert\" onclick=\"convertToInteractive('df-ceccc73f-4b52-4723-9f19-959a0f8c01c2')\"\n",
              "              title=\"Convert this dataframe to an interactive table.\"\n",
              "              style=\"display:none;\">\n",
              "        \n",
              "  <svg xmlns=\"http://www.w3.org/2000/svg\" height=\"24px\"viewBox=\"0 0 24 24\"\n",
              "       width=\"24px\">\n",
              "    <path d=\"M0 0h24v24H0V0z\" fill=\"none\"/>\n",
              "    <path d=\"M18.56 5.44l.94 2.06.94-2.06 2.06-.94-2.06-.94-.94-2.06-.94 2.06-2.06.94zm-11 1L8.5 8.5l.94-2.06 2.06-.94-2.06-.94L8.5 2.5l-.94 2.06-2.06.94zm10 10l.94 2.06.94-2.06 2.06-.94-2.06-.94-.94-2.06-.94 2.06-2.06.94z\"/><path d=\"M17.41 7.96l-1.37-1.37c-.4-.4-.92-.59-1.43-.59-.52 0-1.04.2-1.43.59L10.3 9.45l-7.72 7.72c-.78.78-.78 2.05 0 2.83L4 21.41c.39.39.9.59 1.41.59.51 0 1.02-.2 1.41-.59l7.78-7.78 2.81-2.81c.8-.78.8-2.07 0-2.86zM5.41 20L4 18.59l7.72-7.72 1.47 1.35L5.41 20z\"/>\n",
              "  </svg>\n",
              "      </button>\n",
              "      \n",
              "  <style>\n",
              "    .colab-df-container {\n",
              "      display:flex;\n",
              "      flex-wrap:wrap;\n",
              "      gap: 12px;\n",
              "    }\n",
              "\n",
              "    .colab-df-convert {\n",
              "      background-color: #E8F0FE;\n",
              "      border: none;\n",
              "      border-radius: 50%;\n",
              "      cursor: pointer;\n",
              "      display: none;\n",
              "      fill: #1967D2;\n",
              "      height: 32px;\n",
              "      padding: 0 0 0 0;\n",
              "      width: 32px;\n",
              "    }\n",
              "\n",
              "    .colab-df-convert:hover {\n",
              "      background-color: #E2EBFA;\n",
              "      box-shadow: 0px 1px 2px rgba(60, 64, 67, 0.3), 0px 1px 3px 1px rgba(60, 64, 67, 0.15);\n",
              "      fill: #174EA6;\n",
              "    }\n",
              "\n",
              "    [theme=dark] .colab-df-convert {\n",
              "      background-color: #3B4455;\n",
              "      fill: #D2E3FC;\n",
              "    }\n",
              "\n",
              "    [theme=dark] .colab-df-convert:hover {\n",
              "      background-color: #434B5C;\n",
              "      box-shadow: 0px 1px 3px 1px rgba(0, 0, 0, 0.15);\n",
              "      filter: drop-shadow(0px 1px 2px rgba(0, 0, 0, 0.3));\n",
              "      fill: #FFFFFF;\n",
              "    }\n",
              "  </style>\n",
              "\n",
              "      <script>\n",
              "        const buttonEl =\n",
              "          document.querySelector('#df-ceccc73f-4b52-4723-9f19-959a0f8c01c2 button.colab-df-convert');\n",
              "        buttonEl.style.display =\n",
              "          google.colab.kernel.accessAllowed ? 'block' : 'none';\n",
              "\n",
              "        async function convertToInteractive(key) {\n",
              "          const element = document.querySelector('#df-ceccc73f-4b52-4723-9f19-959a0f8c01c2');\n",
              "          const dataTable =\n",
              "            await google.colab.kernel.invokeFunction('convertToInteractive',\n",
              "                                                     [key], {});\n",
              "          if (!dataTable) return;\n",
              "\n",
              "          const docLinkHtml = 'Like what you see? Visit the ' +\n",
              "            '<a target=\"_blank\" href=https://colab.research.google.com/notebooks/data_table.ipynb>data table notebook</a>'\n",
              "            + ' to learn more about interactive tables.';\n",
              "          element.innerHTML = '';\n",
              "          dataTable['output_type'] = 'display_data';\n",
              "          await google.colab.output.renderOutput(dataTable, element);\n",
              "          const docLink = document.createElement('div');\n",
              "          docLink.innerHTML = docLinkHtml;\n",
              "          element.appendChild(docLink);\n",
              "        }\n",
              "      </script>\n",
              "    </div>\n",
              "  </div>\n",
              "  "
            ]
          },
          "metadata": {},
          "execution_count": 5
        }
      ]
    },
    {
      "cell_type": "code",
      "source": [
        "tf.keras.backend.clear_session()"
      ],
      "metadata": {
        "id": "FPLfRaKNjpQg"
      },
      "execution_count": 21,
      "outputs": []
    },
    {
      "cell_type": "code",
      "execution_count": 7,
      "metadata": {
        "id": "1pF-p_6jgrt0"
      },
      "outputs": [],
      "source": [
        "def get_model(arch='DenseNet'):\n",
        "    #Create model\n",
        "    if arch=='ResNet':\n",
        "        base_model = tf.keras.applications.ResNet50(include_top=False, weights=None, \n",
        "                                                    input_shape=(224, 224, 3), pooling='avg')\n",
        "        out = base_model.output\n",
        "        prediction = tf.keras.layers.Dense(1, activation='sigmoid')(out)\n",
        "        scale_layer = tf.keras.layers.Lambda(lambda x: x * 128)(prediction)\n",
        "        model = tf.keras.Model(inputs = base_model.input, outputs = scale_layer)\n",
        "    else:\n",
        "        base_model = tf.keras.applications.DenseNet121(include_top=False, weights=None, \n",
        "                                                       input_shape=(224, 224, 3), pooling='avg')\n",
        "        out = base_model.output\n",
        "        prediction = tf.keras.layers.Dense(1, activation='sigmoid')(out)\n",
        "        scale_layer = tf.keras.layers.Lambda(lambda x: x * 128)(prediction)\n",
        "        model = tf.keras.Model(inputs = base_model.input, outputs = scale_layer)\n",
        "    \n",
        "    return model"
      ]
    },
    {
      "cell_type": "code",
      "execution_count": 22,
      "metadata": {
        "id": "tqJKFEs_Op2v"
      },
      "outputs": [],
      "source": [
        "model = get_model(arch)\n",
        "model.load_weights(f\"{model_path}/{arch.lower()}_{fold}.h5\")\n",
        "opt = tf.keras.optimizers.Nadam()\n",
        "model.compile(loss=tf.keras.losses.Huber(), optimizer=opt, metrics=['mae','mse', tfa.metrics.RSquare(name=\"R2\")])"
      ]
    },
    {
      "cell_type": "markdown",
      "metadata": {
        "id": "bYcQj_Jsgrt9"
      },
      "source": [
        "**Preparing Dataset**"
      ]
    },
    {
      "cell_type": "code",
      "execution_count": 9,
      "metadata": {
        "id": "2nqwuQ_4gruA"
      },
      "outputs": [],
      "source": [
        "def get_images(degree='0'):\n",
        "    if degree == '90':\n",
        "        images = pd.read_csv(r'./Datasets/90degree_val/90degInfo.csv') #load dataset info\n",
        "        images2 = pd.read_csv(r'./Datasets/90degree_lowrange/90degInfo.csv') #load dataset info\n",
        "        train_df, test_df = train_test_split(images2, train_size=0.9, shuffle=True, random_state=1)\n",
        "    else:\n",
        "        images = pd.read_csv(r'./Datasets/0degree_val/0degInfo.csv') #load dataset info\n",
        "        images2 = pd.read_csv(r'./Datasets/0degree_lowrange/0degInfo.csv') #load dataset info\n",
        "        train_df, test_df = train_test_split(images2, train_size=0.9, shuffle=True, random_state=1)\n",
        "    \n",
        "    return images, train_df, test_df"
      ]
    },
    {
      "cell_type": "code",
      "execution_count": 10,
      "metadata": {
        "colab": {
          "base_uri": "https://localhost:8080/"
        },
        "id": "IHVhzXKjIn4_",
        "outputId": "648cbaac-8826-43b6-f4dc-6e7fbbfdbdbd"
      },
      "outputs": [
        {
          "output_type": "stream",
          "name": "stdout",
          "text": [
            "Found 25 validated image filenames.\n",
            "Found 486 validated image filenames.\n",
            "Found 55 validated image filenames.\n"
          ]
        }
      ],
      "source": [
        "images, train_df, test_df = get_images(degree)\n",
        "img_generator = tf.keras.preprocessing.image.ImageDataGenerator()\n",
        "\n",
        "val_images = img_generator.flow_from_dataframe(\n",
        "    dataframe=images,\n",
        "    x_col='Filepath',\n",
        "    y_col='Turbidity',\n",
        "    target_size=(224, 224),\n",
        "    color_mode='rgb',\n",
        "    class_mode='raw',\n",
        "    shuffle=False,\n",
        ")\n",
        "\n",
        "train_images = img_generator.flow_from_dataframe(\n",
        "    dataframe=train_df,\n",
        "    x_col='Filepath',\n",
        "    y_col='Turbidity',\n",
        "    target_size=(224, 224),\n",
        "    color_mode='rgb',\n",
        "    class_mode='raw',\n",
        "    shuffle=False,\n",
        ")\n",
        "\n",
        "test_images = img_generator.flow_from_dataframe(\n",
        "    dataframe=test_df,\n",
        "    x_col='Filepath',\n",
        "    y_col='Turbidity',\n",
        "    target_size=(224, 224),\n",
        "    color_mode='rgb',\n",
        "    class_mode='raw',\n",
        "    shuffle=False\n",
        ")"
      ]
    },
    {
      "cell_type": "code",
      "execution_count": 23,
      "metadata": {
        "colab": {
          "base_uri": "https://localhost:8080/"
        },
        "id": "H8OUz4GbgruD",
        "outputId": "a50fe66f-1148-459e-b907-f0dd6c683416"
      },
      "outputs": [
        {
          "output_type": "stream",
          "name": "stdout",
          "text": [
            "1/1 [==============================] - 2s 2s/step - loss: 6.2262 - mae: 6.6980 - mse: 66.9256 - R2: 0.7881\n",
            "sampel air score   [6.226236343383789, 6.697956562042236, 66.92555236816406, 0.7880638241767883]\n",
            "16/16 [==============================] - 2s 103ms/step - loss: 3.3199 - mae: 3.7835 - mse: 26.4020 - R2: 0.9804\n",
            "2/2 [==============================] - 0s 86ms/step - loss: 4.6177 - mae: 5.0976 - mse: 39.3961 - R2: 0.9634\n",
            "test   [4.617683410644531, 5.097649574279785, 39.39605712890625, 0.9634115695953369]\n",
            "train   [3.319913387298584, 3.78353214263916, 26.402023315429688, 0.980374276638031]\n"
          ]
        }
      ],
      "source": [
        "pred = np.squeeze(model.predict(val_images))\n",
        "true = val_images.labels\n",
        "residuals = true - pred\n",
        "\n",
        "score = model.evaluate(val_images)\n",
        "print('sampel air score  ',score)\n",
        "\n",
        "test_pred = np.squeeze(model.predict(test_images))\n",
        "test_true = test_images.labels\n",
        "test_residuals = test_true - test_pred\n",
        "\n",
        "train_pred = np.squeeze(model.predict(train_images))\n",
        "train_true = train_images.labels\n",
        "train_residuals = train_true - train_pred\n",
        "\n",
        "train_score = model.evaluate(train_images)\n",
        "test_score = model.evaluate(test_images)\n",
        "print('test  ',test_score)\n",
        "print('train  ', train_score)"
      ]
    },
    {
      "cell_type": "code",
      "execution_count": null,
      "metadata": {
        "colab": {
          "base_uri": "https://localhost:8080/"
        },
        "id": "7b3TadYQjVmI",
        "outputId": "07ae406d-35e7-4162-9f44-3553053c84dc"
      },
      "outputs": [],
      "source": [
        "predicted = pd.Series(pred)\n",
        "truevalue = pd.Series(true)\n",
        "frame = { 'Predicted': predicted, 'True Val': truevalue }\n",
        "result = pd.DataFrame(frame)\n",
        "rslt_df = result.sort_values(by = 'True Val')\n",
        "rslt_df"
      ]
    },
    {
      "cell_type": "code",
      "execution_count": null,
      "metadata": {},
      "outputs": [],
      "source": [
        "from scipy.stats import shapiro\n",
        "\n",
        "#perform Shapiro-Wilk test\n",
        "shap_test = shapiro(test_residuals)\n",
        "shap_train = shapiro(train_residuals)\n",
        "shap_air = shapiro(residuals)"
      ]
    },
    {
      "cell_type": "code",
      "execution_count": null,
      "metadata": {},
      "outputs": [],
      "source": [
        "print('test', shap_test)\n",
        "print('train', shap_train)\n",
        "print('air', shap_air)"
      ]
    },
    {
      "cell_type": "markdown",
      "metadata": {
        "id": "RbjEOfwkIn5B"
      },
      "source": [
        "**Plotting Model Graphs**"
      ]
    },
    {
      "cell_type": "markdown",
      "metadata": {
        "id": "9SNaYE58In5N"
      },
      "source": [
        "Residual Plot"
      ]
    },
    {
      "cell_type": "code",
      "source": [
        "from scipy.stats import shapiro\n",
        "\n",
        "#perform Shapiro-Wilk test\n",
        "shap_test = shapiro(test_residuals)\n",
        "shap_train = shapiro(train_residuals)\n",
        "shap_air = shapiro(residuals)"
      ],
      "metadata": {
        "id": "x3U-PeaScPEv"
      },
      "execution_count": 25,
      "outputs": []
    },
    {
      "cell_type": "code",
      "source": [
        "print('test', shap_test)\n",
        "print('train', shap_train)\n",
        "print('air', shap_air)"
      ],
      "metadata": {
        "id": "BBz9M_h0h4bz",
        "outputId": "59a694f9-5723-48fb-fd16-eafec7498885",
        "colab": {
          "base_uri": "https://localhost:8080/"
        }
      },
      "execution_count": 26,
      "outputs": [
        {
          "output_type": "stream",
          "name": "stdout",
          "text": [
            "test (0.9745514392852783, 0.2921825349330902)\n",
            "train (0.9800329804420471, 3.224545707780635e-06)\n",
            "air (0.9741052985191345, 0.7494853734970093)\n"
          ]
        }
      ]
    },
    {
      "cell_type": "code",
      "execution_count": 27,
      "metadata": {
        "colab": {
          "base_uri": "https://localhost:8080/",
          "height": 405
        },
        "id": "arOYaNzoIn5O",
        "outputId": "66da0c1d-15d1-47b6-da52-ce57fc598374"
      },
      "outputs": [
        {
          "output_type": "display_data",
          "data": {
            "text/plain": [
              "<Figure size 576x432 with 2 Axes>"
            ],
            "image/png": "[encoded data removed]"
          },
          "metadata": {
            "needs_background": "light"
          }
        }
      ],
      "source": [
        "if not os.path.exists(f'plots/{name}'):\n",
        "  os.makedirs(f'plots/{name}')\n",
        "\n",
        "f, axs = plt.subplots(1, 2, figsize=(8,6), gridspec_kw={'width_ratios': [4, 1]})\n",
        "\n",
        "f.suptitle(f'Residual Plot - {name}', fontsize=13, fontweight='bold',  y=0.92) \n",
        "axs[0].scatter(pred,residuals, label='Validation Set', alpha=0.75, color='tab:green')   \n",
        "axs[0].set_ylabel('Residual (NTU)')\n",
        "axs[0].set_xlabel('Predicted Turbidity (NTU)')      \n",
        "axs[0].axhline(0, color='black')\n",
        "axs[0].legend()\n",
        "axs[0].grid()\n",
        "\n",
        "axs[1].hist(residuals, bins=50, orientation=\"horizontal\", density=True, alpha=0.9, color='tab:green')\n",
        "axs[1].axhline(0, color='black')\n",
        "axs[1].set_xlabel('Distribution')  \n",
        "axs[1].yaxis.tick_right()\n",
        "axs[1].grid(axis='y')\n",
        "\n",
        "plt.subplots_adjust(wspace=0.05)\n",
        "\n",
        "plt.savefig(f'plots/{name}/residualPlot_{name}.png', dpi=150)\n",
        "plt.show()"
      ]
    },
    {
      "cell_type": "markdown",
      "metadata": {
        "id": "nH7eDNfiIn5P"
      },
      "source": [
        "Measured vs Predicted Plot"
      ]
    },
    {
      "cell_type": "code",
      "execution_count": 28,
      "metadata": {
        "colab": {
          "base_uri": "https://localhost:8080/",
          "height": 423
        },
        "id": "C9HK-G42In5Q",
        "outputId": "14c47254-48c4-42c6-cad0-643d1ddeba46"
      },
      "outputs": [
        {
          "output_type": "display_data",
          "data": {
            "text/plain": [
              "<Figure size 432x432 with 1 Axes>"
            ],
            "image/png": "[encoded data removed]"
          },
          "metadata": {
            "needs_background": "light"
          }
        }
      ],
      "source": [
        "fig, ax = plt.subplots(1,1,figsize=(6,6))\n",
        "fig.suptitle(f'Nilai Prediksi vs Observasi - {name}', fontsize=13, fontweight='bold',  y=0.96)\n",
        "\n",
        "amax = pred.max()\n",
        "delt = abs(true.max() - amax) + 2\n",
        "\n",
        "ax.scatter(true,pred, label=f'$Validation\\ R^2=${round(score[3],3)}',color='tab:green', alpha=0.75)\n",
        "theta = np.polyfit(true, pred, 1)\n",
        "y_line = theta[1] + theta[0] * true\n",
        "ax.plot([true.min(), true.max()+delt], [y_line.min(), y_line.max()+delt],'k--', lw=2,label='best fit')\n",
        "ax.plot([0,amax+2], [0,amax+2], 'k--', lw=2, label='identity',color='dimgray')\n",
        "ax.set_xlabel('Measured Turbidity (NTU)')\n",
        "ax.set_ylabel('Predicted Turbidity (NTU)')\n",
        "ax.set_title(f'Test Set', fontsize=10, fontweight='bold')\n",
        "ax.set_xlim([0,amax+2])\n",
        "ax.set_ylim([0,amax+2])\n",
        "ax.grid()\n",
        "ax.legend()\n",
        "\n",
        "plt.savefig(f'plots/{name}/predErrorPlot_{name}.png', dpi=150)\n",
        "plt.show()"
      ]
    },
    {
      "cell_type": "code",
      "execution_count": null,
      "metadata": {},
      "outputs": [],
      "source": [
        "f, axs = plt.subplots(1, 2, figsize=(8,6), gridspec_kw={'width_ratios': [4, 1]})\n",
        "\n",
        "f.suptitle(f'Residual Plot - {name}', fontsize=13, fontweight='bold',  y=0.92) \n",
        "axs[0].scatter(train_pred,train_residuals, label='Train Set', alpha=0.75, color='tab:blue')   \n",
        "axs[0].scatter(test_pred,test_residuals, label='Test Set', alpha=0.75, color='tab:orange')\n",
        "axs[0].set_ylabel('Residual (NTU)')\n",
        "axs[0].set_xlabel('Predicted Turbidity (NTU)')      \n",
        "axs[0].axhline(0, color='black')\n",
        "axs[0].legend()\n",
        "axs[0].grid()\n",
        "\n",
        "axs[1].hist(train_residuals, bins=50, orientation=\"horizontal\", density=True, alpha=0.9, color='tab:blue')\n",
        "axs[1].hist(test_residuals, bins=50, orientation=\"horizontal\", density=True, alpha=0.75, color='tab:orange')\n",
        "axs[1].axhline(0, color='black')\n",
        "axs[1].set_xlabel('Distribution')  \n",
        "axs[1].yaxis.tick_right()\n",
        "axs[1].grid(axis='y')\n",
        "\n",
        "plt.subplots_adjust(wspace=0.05)\n",
        "\n",
        "plt.savefig(f'plots/{name}/trainresidualPlot_{name}.png', dpi=150)\n",
        "plt.show()"
      ]
    },
    {
      "cell_type": "code",
      "execution_count": null,
      "metadata": {},
      "outputs": [],
      "source": [
        "fig, ax = plt.subplots(1,2,figsize=(13,6))\n",
        "fig.suptitle(f'Nilai Prediksi vs Observasi - {name}', fontsize=13, fontweight='bold',  y=0.96)\n",
        "\n",
        "ax[0].scatter(test_true,test_pred, label=f'$Test\\ R^2=${round(test_score[3],3)}',color='tab:orange', alpha=0.75)\n",
        "theta = np.polyfit(test_true, test_pred, 1)\n",
        "y_line = theta[1] + theta[0] * test_true\n",
        "ax[0].plot([test_true.min(), test_true.max()], [y_line.min(), y_line.max()],'k--', lw=2,label='best fit')\n",
        "ax[0].plot([test_true.min(), test_true.max()], [test_true.min(), test_true.max()], 'k--', lw=2, label='identity',color='dimgray')\n",
        "ax[0].set_xlabel('Measured Turbidity (NTU)')\n",
        "ax[0].set_ylabel('Predicted Turbidity (NTU)')\n",
        "ax[0].set_title(f'Test Set', fontsize=10, fontweight='bold')\n",
        "ax[0].set_xlim([0, 130])\n",
        "ax[0].set_ylim([0, 130])\n",
        "ax[0].grid()\n",
        "ax[0].legend()\n",
        "\n",
        "ax[1].scatter(train_true,train_pred, label=f'$Train\\ R^2=${round(train_score[3],3)}', color='tab:blue', alpha=0.75)\n",
        "theta2 = np.polyfit(train_true, train_pred, 1)\n",
        "y_line2 = theta2[1] + theta2[0] * train_true\n",
        "ax[1].plot([train_true.min(), train_true.max()], [y_line2.min(), y_line2.max()],'k--', lw=2,label='best fit')\n",
        "ax[1].plot([train_true.min(), train_true.max()], [train_true.min(),train_true.max()], 'k--', lw=2, label='identity',color='dimgray')\n",
        "ax[1].set_xlabel('Measured Turbidity (NTU)')\n",
        "ax[1].set_ylabel('Predicted Turbidity (NTU)')\n",
        "ax[1].set_title(f'Train Set', fontsize=10, fontweight='bold')\n",
        "ax[1].set_xlim([0, 130])\n",
        "ax[1].set_ylim([0, 130])\n",
        "ax[1].grid()\n",
        "ax[1].legend()\n",
        "\n",
        "plt.savefig(f'plots/{name}/trainpredErrorPlot_{name}.png', dpi=150)\n",
        "plt.show()"
      ]
    },
    {
      "cell_type": "code",
      "execution_count": 12,
      "metadata": {
        "colab": {
          "base_uri": "https://localhost:8080/"
        },
        "id": "z6NY5wfxKHLA",
        "outputId": "0c8717c2-056b-4836-8f77-70b2d7fae178"
      },
      "outputs": [
        {
          "output_type": "stream",
          "name": "stdout",
          "text": [
            "Done!\n"
          ]
        }
      ],
      "source": [
        "save_path = f\"/content/gdrive/MyDrive/MODEL BERHASIL/Validation_Plots_SIGMOID\"\n",
        "if not os.path.exists(save_path):\n",
        "  os.makedirs(save_path)\n",
        "\n",
        "oripath = \"plots/.\"\n",
        "!cp -a \"{oripath}\" \"{save_path}\" # copies files to google drive\n",
        "print(\"Done!\")"
      ]
    },
    {
      "cell_type": "code",
      "source": [
        ""
      ],
      "metadata": {
        "id": "-Qf3jDSSkG9P"
      },
      "execution_count": 19,
      "outputs": []
    }
  ],
  "metadata": {
    "accelerator": "GPU",
    "colab": {
      "name": "evaluate_model.ipynb",
      "provenance": [],
      "include_colab_link": true
    },
    "kernelspec": {
      "display_name": "Python 3",
      "name": "python3"
    },
    "language_info": {
      "name": "python"
    },
    "orig_nbformat": 4
  },
  "nbformat": 4,
  "nbformat_minor": 0
}