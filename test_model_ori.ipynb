{
  "cells": [
    {
      "cell_type": "code",
      "execution_count": 1,
      "metadata": {
        "colab": {
          "base_uri": "https://localhost:8080/"
        },
        "id": "DIhNg2zIIn43",
        "outputId": "2e8330ea-f780-4abf-e00e-0b81fe7888f2"
      },
      "outputs": [
        {
          "name": "stdout",
          "output_type": "stream",
          "text": [
            "Looking in indexes: https://pypi.org/simple, https://us-python.pkg.dev/colab-wheels/public/simple/\n",
            "Collecting tensorflow-addons\n",
            "  Downloading tensorflow_addons-0.17.0-cp37-cp37m-manylinux_2_17_x86_64.manylinux2014_x86_64.whl (1.1 MB)\n",
            "\u001b[K     |████████████████████████████████| 1.1 MB 7.0 MB/s \n",
            "\u001b[?25hRequirement already satisfied: packaging in /usr/local/lib/python3.7/dist-packages (from tensorflow-addons) (21.3)\n",
            "Requirement already satisfied: typeguard>=2.7 in /usr/local/lib/python3.7/dist-packages (from tensorflow-addons) (2.7.1)\n",
            "Requirement already satisfied: pyparsing!=3.0.5,>=2.0.2 in /usr/local/lib/python3.7/dist-packages (from packaging->tensorflow-addons) (3.0.9)\n",
            "Installing collected packages: tensorflow-addons\n",
            "Successfully installed tensorflow-addons-0.17.0\n"
          ]
        }
      ],
      "source": [
        "import os\n",
        "import numpy as np\n",
        "import pandas as pd\n",
        "import matplotlib.pyplot as plt\n",
        "import tensorflow as tf\n",
        "!pip install tensorflow-addons\n",
        "import tensorflow_addons as tfa\n",
        "from sklearn.model_selection import train_test_split"
      ]
    },
    {
      "cell_type": "code",
      "execution_count": 2,
      "metadata": {
        "colab": {
          "base_uri": "https://localhost:8080/"
        },
        "id": "mzatsb06In49",
        "outputId": "d42060ad-6d6b-4a23-8336-9e9c47e0e3b3"
      },
      "outputs": [
        {
          "name": "stdout",
          "output_type": "stream",
          "text": [
            "Mounted at /content/gdrive\n"
          ]
        }
      ],
      "source": [
        "from google.colab import drive\n",
        "drive.mount('/content/gdrive')"
      ]
    },
    {
      "cell_type": "code",
      "execution_count": 3,
      "metadata": {
        "colab": {
          "base_uri": "https://localhost:8080/"
        },
        "id": "HLgJ9pNFIn4-",
        "outputId": "66f22a54-8116-407e-fd44-36656c928aef"
      },
      "outputs": [
        {
          "name": "stdout",
          "output_type": "stream",
          "text": [
            "Cloning into 'TurbidityPrediction-thesis'...\n",
            "remote: Enumerating objects: 3105, done.\u001b[K\n",
            "remote: Counting objects: 100% (115/115), done.\u001b[K\n",
            "remote: Compressing objects: 100% (99/99), done.\u001b[K\n",
            "remote: Total 3105 (delta 30), reused 95 (delta 16), pack-reused 2990\u001b[K\n",
            "Receiving objects: 100% (3105/3105), 674.30 MiB | 27.29 MiB/s, done.\n",
            "Resolving deltas: 100% (159/159), done.\n",
            "Checking out files: 100% (3462/3462), done.\n"
          ]
        }
      ],
      "source": [
        "!git clone https://github.com/naufalhisyam/TurbidityPrediction-thesis.git\n",
        "os.chdir('/content/TurbidityPrediction-thesis') "
      ]
    },
    {
      "cell_type": "markdown",
      "metadata": {
        "id": "V4-H6ee_OtAo"
      },
      "source": [
        "**Loading Model**"
      ]
    },
    {
      "cell_type": "code",
      "execution_count": 4,
      "metadata": {
        "id": "oDHqf3Ligrtz"
      },
      "outputs": [],
      "source": [
        "arch = 'ResNet'\n",
        "name = 'ResNet_0deg_withTL'\n",
        "degree = '0'\n",
        "\n",
        "model_path = f\"/content/gdrive/MyDrive/MODEL BERHASIL/lowrange/{arch}/{name}\""
      ]
    },
    {
      "cell_type": "code",
      "execution_count": 5,
      "metadata": {
        "id": "1pF-p_6jgrt0"
      },
      "outputs": [],
      "source": [
        "def get_model(arch='DenseNet'):\n",
        "    #Create model\n",
        "    if arch=='ResNet':\n",
        "        base_model = tf.keras.applications.ResNet50(include_top=False, weights=None, \n",
        "                                                    input_shape=(224, 224, 3), pooling='avg')\n",
        "        out = base_model.output\n",
        "        prediction = tf.keras.layers.Dense(1, activation=\"linear\")(out)\n",
        "        model = tf.keras.Model(inputs = base_model.input, outputs = prediction)\n",
        "    else:\n",
        "        base_model = tf.keras.applications.DenseNet121(include_top=False, weights=None, \n",
        "                                                       input_shape=(224, 224, 3), pooling='avg')\n",
        "        out = base_model.output\n",
        "        prediction = tf.keras.layers.Dense(1, activation=\"linear\")(out)\n",
        "        model = tf.keras.Model(inputs = base_model.input, outputs = prediction)\n",
        "    \n",
        "    return model"
      ]
    },
    {
      "cell_type": "code",
      "execution_count": 6,
      "metadata": {
        "id": "tqJKFEs_Op2v"
      },
      "outputs": [],
      "source": [
        "model = get_model(arch)\n",
        "model.load_weights(f\"{model_path}/{arch}.h5\")\n",
        "opt = tf.keras.optimizers.Adam()\n",
        "model.compile(loss=tf.keras.losses.Huber(), optimizer=opt, metrics=['mae','mse', tfa.metrics.RSquare(name=\"R2\")])"
      ]
    },
    {
      "cell_type": "markdown",
      "metadata": {
        "id": "bYcQj_Jsgrt9"
      },
      "source": [
        "**Preparing Dataset**"
      ]
    },
    {
      "cell_type": "code",
      "execution_count": 7,
      "metadata": {
        "id": "2nqwuQ_4gruA"
      },
      "outputs": [],
      "source": [
        "def get_images(degree='0'):\n",
        "    if degree == '90':\n",
        "        images = pd.read_csv(r'./Datasets/90degree_val/90degInfo.csv') #load dataset info\n",
        "        images2 = pd.read_csv(r'./Datasets/90degree_lowrange/90degInfo.csv') #load dataset info\n",
        "        train_df, test_df = train_test_split(images2, train_size=0.9, shuffle=True, random_state=1)\n",
        "    else:\n",
        "        images = pd.read_csv(r'./Datasets/0degree_val/0degInfo.csv') #load dataset info\n",
        "        images2 = pd.read_csv(r'./Datasets/0degree_lowrange/0degInfo.csv') #load dataset info\n",
        "        train_df, test_df = train_test_split(images2, train_size=0.9, shuffle=True, random_state=1)\n",
        "    \n",
        "    return images, train_df, test_df"
      ]
    },
    {
      "cell_type": "code",
      "execution_count": 8,
      "metadata": {
        "colab": {
          "base_uri": "https://localhost:8080/"
        },
        "id": "IHVhzXKjIn4_",
        "outputId": "b51be947-d63c-4b48-dc94-b9764d8d3c3c"
      },
      "outputs": [
        {
          "name": "stdout",
          "output_type": "stream",
          "text": [
            "Found 25 validated image filenames.\n"
          ]
        }
      ],
      "source": [
        "images, train_df, test_df = get_images(degree)\n",
        "img_generator = tf.keras.preprocessing.image.ImageDataGenerator()\n",
        "\n",
        "val_images = img_generator.flow_from_dataframe(\n",
        "    dataframe=images,\n",
        "    x_col='Filepath',\n",
        "    y_col='Turbidity',\n",
        "    target_size=(224, 224),\n",
        "    color_mode='rgb',\n",
        "    class_mode='raw',\n",
        "    shuffle=False,\n",
        ")\n",
        "\n",
        "train_images = img_generator.flow_from_dataframe(\n",
        "    dataframe=train_df,\n",
        "    x_col='Filepath',\n",
        "    y_col='Turbidity',\n",
        "    target_size=(224, 224),\n",
        "    color_mode='rgb',\n",
        "    class_mode='raw',\n",
        "    shuffle=False,\n",
        ")\n",
        "\n",
        "test_images = img_generator.flow_from_dataframe(\n",
        "    dataframe=test_df,\n",
        "    x_col='Filepath',\n",
        "    y_col='Turbidity',\n",
        "    target_size=(224, 224),\n",
        "    color_mode='rgb',\n",
        "    class_mode='raw',\n",
        "    shuffle=False\n",
        ")"
      ]
    },
    {
      "cell_type": "code",
      "execution_count": 9,
      "metadata": {
        "colab": {
          "base_uri": "https://localhost:8080/"
        },
        "id": "H8OUz4GbgruD",
        "outputId": "1126b384-2553-442a-8521-64cc1e6ade4d"
      },
      "outputs": [
        {
          "name": "stdout",
          "output_type": "stream",
          "text": [
            "1/1 [==============================] - 3s 3s/step - loss: 6.8771 - mae: 7.3128 - mse: 93.4637 - R2: 0.7040\n",
            "score   [6.877111434936523, 7.312805652618408, 93.46371459960938, 0.7040242552757263]\n"
          ]
        }
      ],
      "source": [
        "pred = np.squeeze(model.predict(val_images))\n",
        "true = val_images.labels\n",
        "residuals = true - pred\n",
        "\n",
        "score = model.evaluate(val_images)\n",
        "\n",
        "\n",
        "test_pred = np.squeeze(model.predict(test_images))\n",
        "test_true = test_images.labels\n",
        "test_residuals = test_true - test_pred\n",
        "\n",
        "train_pred = np.squeeze(model.predict(train_images))\n",
        "train_true = train_images.labels\n",
        "train_residuals = train_true - train_pred\n",
        "\n",
        "train_score = model.evaluate(train_images)\n",
        "test_score = model.evaluate(test_images)\n",
        "print('sampel air score  ',score)\n",
        "print('test  ',test_score)\n",
        "print('train  ', train_score)"
      ]
    },
    {
      "cell_type": "code",
      "execution_count": null,
      "metadata": {
        "colab": {
          "base_uri": "https://localhost:8080/"
        },
        "id": "7b3TadYQjVmI",
        "outputId": "07ae406d-35e7-4162-9f44-3553053c84dc"
      },
      "outputs": [],
      "source": [
        "predicted = pd.Series(pred)\n",
        "truevalue = pd.Series(true)\n",
        "frame = { 'Predicted': predicted, 'True Val': truevalue }\n",
        "result = pd.DataFrame(frame)\n",
        "rslt_df = result.sort_values(by = 'True Val')\n",
        "rslt_df"
      ]
    },
    {
      "cell_type": "code",
      "execution_count": null,
      "metadata": {},
      "outputs": [],
      "source": [
        "test_predicted = pd.Series(test_pred)\n",
        "test_truevalue = pd.Series(test_true)\n",
        "testframe = { 'Predicted': test_predicted, 'True Val': test_truevalue }\n",
        "testresult = pd.DataFrame(testframe)\n",
        "test_rslt_df = testresult.sort_values(by = 'True Val')\n",
        "test_rslt_df"
      ]
    },
    {
      "cell_type": "code",
      "execution_count": null,
      "metadata": {},
      "outputs": [],
      "source": [
        "from scipy.stats import shapiro\n",
        "\n",
        "#perform Shapiro-Wilk test\n",
        "shap_test = shapiro(test_residuals)\n",
        "shap_train = shapiro(train_residuals)\n",
        "shap_air = shapiro(residuals)\n",
        "\n",
        "print('test', shap_test)\n",
        "print('train', shap_train)\n",
        "print('air', shap_air)"
      ]
    },
    {
      "cell_type": "markdown",
      "metadata": {
        "id": "RbjEOfwkIn5B"
      },
      "source": [
        "**Plotting Model Graphs**"
      ]
    },
    {
      "cell_type": "markdown",
      "metadata": {
        "id": "9SNaYE58In5N"
      },
      "source": [
        "Residual Plot"
      ]
    },
    {
      "cell_type": "code",
      "execution_count": 10,
      "metadata": {
        "colab": {
          "base_uri": "https://localhost:8080/",
          "height": 405
        },
        "id": "arOYaNzoIn5O",
        "outputId": "20574a49-2ccc-4773-8811-c186adb7226f"
      },
      "outputs": [
        {
          "data": {
            "image/png": "[encoded data removed]",
            "text/plain": [
              "<Figure size 576x432 with 2 Axes>"
            ]
          },
          "metadata": {
            "needs_background": "light"
          },
          "output_type": "display_data"
        }
      ],
      "source": [
        "if not os.path.exists(f'plots/{name}'):\n",
        "  os.makedirs(f'plots/{name}')\n",
        "\n",
        "f, axs = plt.subplots(1, 2, figsize=(8,6), gridspec_kw={'width_ratios': [4, 1]})\n",
        "\n",
        "f.suptitle(f'Residual Plot - {name}', fontsize=13, fontweight='bold',  y=0.92) \n",
        "axs[0].scatter(pred,residuals, label='Validation Set', alpha=0.75, color='tab:green')   \n",
        "axs[0].set_ylabel('Residual (NTU)')\n",
        "axs[0].set_xlabel('Predicted Turbidity (NTU)')      \n",
        "axs[0].axhline(0, color='black')\n",
        "axs[0].legend()\n",
        "axs[0].grid()\n",
        "\n",
        "axs[1].hist(residuals, bins=50, orientation=\"horizontal\", density=True, alpha=0.9, color='tab:green')\n",
        "axs[1].axhline(0, color='black')\n",
        "axs[1].set_xlabel('Distribution')  \n",
        "axs[1].yaxis.tick_right()\n",
        "axs[1].grid(axis='y')\n",
        "\n",
        "plt.subplots_adjust(wspace=0.05)\n",
        "\n",
        "plt.savefig(f'plots/{name}/residualPlot_{name}.png', dpi=150)\n",
        "plt.show()"
      ]
    },
    {
      "cell_type": "markdown",
      "metadata": {
        "id": "nH7eDNfiIn5P"
      },
      "source": [
        "Measured vs Predicted Plot"
      ]
    },
    {
      "cell_type": "code",
      "execution_count": 11,
      "metadata": {
        "colab": {
          "base_uri": "https://localhost:8080/",
          "height": 423
        },
        "id": "C9HK-G42In5Q",
        "outputId": "0426156d-9327-4a12-cb86-9df94fb4f68c"
      },
      "outputs": [
        {
          "data": {
            "image/png": "[encoded data removed]",
            "text/plain": [
              "<Figure size 432x432 with 1 Axes>"
            ]
          },
          "metadata": {
            "needs_background": "light"
          },
          "output_type": "display_data"
        }
      ],
      "source": [
        "fig, ax = plt.subplots(1,1,figsize=(6,6))\n",
        "fig.suptitle(f'Nilai Prediksi vs Observasi - {name}', fontsize=13, fontweight='bold',  y=0.96)\n",
        "\n",
        "amax = pred.max()\n",
        "delt = abs(true.max() - amax) + 2\n",
        "\n",
        "ax.scatter(true,pred, label=f'Validation Set',color='tab:green', alpha=0.75)\n",
        "theta = np.polyfit(true, pred, 1)\n",
        "y_line = theta[1] + theta[0] * true\n",
        "#ax.plot([true.min(), true.max()+delt], [y_line.min(), y_line.max()+delt],'k--', lw=2,label='best fit')\n",
        "ax.plot([0,amax+2], [0,amax+2], 'k--', lw=2, label='identity',color='dimgray')\n",
        "ax.set_xlabel('Measured Turbidity (NTU)')\n",
        "ax.set_ylabel('Predicted Turbidity (NTU)')\n",
        "ax.set_title(f'Test Set', fontsize=10, fontweight='bold')\n",
        "ax.set_xlim([0,amax+2])\n",
        "ax.set_ylim([0,amax+2])\n",
        "ax.grid()\n",
        "ax.legend()\n",
        "\n",
        "plt.savefig(f'plots/{name}/predErrorPlot_{name}.png', dpi=150)\n",
        "plt.show()"
      ]
    },
    {
      "cell_type": "code",
      "execution_count": null,
      "metadata": {},
      "outputs": [],
      "source": [
        "f, axs = plt.subplots(1, 2, figsize=(8,6), gridspec_kw={'width_ratios': [4, 1]})\n",
        "\n",
        "f.suptitle(f'Residual Plot - {name}', fontsize=13, fontweight='bold',  y=0.92) \n",
        "axs[0].scatter(train_pred,train_residuals, label='Train Set', alpha=0.75, color='tab:blue')   \n",
        "axs[0].scatter(test_pred,test_residuals, label='Test Set', alpha=0.75, color='tab:orange')\n",
        "axs[0].set_ylabel('Residual (NTU)')\n",
        "axs[0].set_xlabel('Predicted Turbidity (NTU)')      \n",
        "axs[0].axhline(0, color='black')\n",
        "axs[0].legend()\n",
        "axs[0].grid()\n",
        "\n",
        "axs[1].hist(train_residuals, bins=50, orientation=\"horizontal\", density=True, alpha=0.9, color='tab:blue')\n",
        "axs[1].hist(test_residuals, bins=50, orientation=\"horizontal\", density=True, alpha=0.75, color='tab:orange')\n",
        "axs[1].axhline(0, color='black')\n",
        "axs[1].set_xlabel('Distribution')  \n",
        "axs[1].yaxis.tick_right()\n",
        "axs[1].grid(axis='y')\n",
        "\n",
        "plt.subplots_adjust(wspace=0.05)\n",
        "\n",
        "plt.savefig(f'plots/{name}/trainresidualPlot_{name}.png', dpi=150)\n",
        "plt.show()"
      ]
    },
    {
      "cell_type": "code",
      "execution_count": null,
      "metadata": {},
      "outputs": [],
      "source": [
        "fig, ax = plt.subplots(1,2,figsize=(13,6))\n",
        "fig.suptitle(f'Nilai Prediksi vs Observasi - {name}', fontsize=13, fontweight='bold',  y=0.96)\n",
        "\n",
        "ax[0].scatter(test_true,test_pred, label=f'Test Set',color='tab:orange', alpha=0.75)\n",
        "theta = np.polyfit(test_true, test_pred, 1)\n",
        "y_line = theta[1] + theta[0] * test_true\n",
        "ax[0].plot([test_true.min(), test_true.max()], [y_line.min(), y_line.max()],'k--', lw=2,label='best fit')\n",
        "ax[0].plot([test_true.min(), test_true.max()], [test_true.min(), test_true.max()], 'k--', lw=2, label='identity',color='dimgray')\n",
        "ax[0].set_xlabel('Measured Turbidity (NTU)')\n",
        "ax[0].set_ylabel('Predicted Turbidity (NTU)')\n",
        "ax[0].set_title(f'Test Set', fontsize=10, fontweight='bold')\n",
        "ax[0].set_xlim([0, 130])\n",
        "ax[0].set_ylim([0, 130])\n",
        "ax[0].grid()\n",
        "ax[0].legend()\n",
        "\n",
        "ax[1].scatter(train_true,train_pred, label=f'Train Set', color='tab:blue', alpha=0.75)\n",
        "theta2 = np.polyfit(train_true, train_pred, 1)\n",
        "y_line2 = theta2[1] + theta2[0] * train_true\n",
        "ax[1].plot([train_true.min(), train_true.max()], [y_line2.min(), y_line2.max()],'k--', lw=2,label='best fit')\n",
        "ax[1].plot([train_true.min(), train_true.max()], [train_true.min(),train_true.max()], 'k--', lw=2, label='identity',color='dimgray')\n",
        "ax[1].set_xlabel('Measured Turbidity (NTU)')\n",
        "ax[1].set_ylabel('Predicted Turbidity (NTU)')\n",
        "ax[1].set_title(f'Train Set', fontsize=10, fontweight='bold')\n",
        "ax[1].set_xlim([0, 130])\n",
        "ax[1].set_ylim([0, 130])\n",
        "ax[1].grid()\n",
        "ax[1].legend()\n",
        "\n",
        "plt.savefig(f'plots/{name}/trainpredErrorPlot_{name}.png', dpi=150)\n",
        "plt.show()"
      ]
    },
    {
      "cell_type": "code",
      "execution_count": null,
      "metadata": {},
      "outputs": [],
      "source": [
        "fig, ax = plt.subplots(figsize=(13,6))\n",
        "fig.suptitle(f'Nilai Prediksi vs Observasi - {name}', fontsize=13, fontweight='bold',  y=0.96)\n",
        "\n",
        "ax.scatter(test_true,test_pred, label=f'Test Set',color='tab:orange', alpha=0.75)\n",
        "ax.scatter(train_true,train_pred, label=f'Train Set', color='tab:blue', alpha=0.75)\n",
        "ax.plot([test_true.min(), test_true.max()], [test_true.min(), test_true.max()], 'k--', lw=2, label='identity',color='dimgray')\n",
        "ax.set_xlabel('Measured Turbidity (NTU)')\n",
        "ax.set_ylabel('Predicted Turbidity (NTU)')\n",
        "ax.set_xlim([0, 130])\n",
        "ax.set_ylim([0, 130])\n",
        "ax.grid()\n",
        "ax.legend()\n",
        "\n",
        "plt.savefig(f'plots/{name}/trainpredErrorPlotgabung_{name}.png', dpi=150)\n",
        "plt.show()"
      ]
    },
    {
      "cell_type": "code",
      "execution_count": null,
      "metadata": {},
      "outputs": [],
      "source": [
        "rslt_csv_file = f'plots/{name}/val_result.csv'\n",
        "with open(rslt_csv_file, mode='w') as f:\n",
        "    rslt_df.to_csv(f)\n",
        "    \n",
        "test_rslt_csv_file = f'plots/{name}/test_result.csv'\n",
        "with open(test_rslt_csv_file, mode='w') as f:\n",
        "    test_rslt_df.to_csv(f)"
      ]
    },
    {
      "cell_type": "code",
      "execution_count": 12,
      "metadata": {
        "colab": {
          "base_uri": "https://localhost:8080/"
        },
        "id": "z6NY5wfxKHLA",
        "outputId": "51a16933-bffe-4e60-b10f-b1bc24595ec5"
      },
      "outputs": [
        {
          "name": "stdout",
          "output_type": "stream",
          "text": [
            "Done!\n"
          ]
        }
      ],
      "source": [
        "save_path = f\"/content/gdrive/MyDrive/MODEL BERHASIL/Validation_Plots_REVISI\"\n",
        "if not os.path.exists(save_path):\n",
        "  os.makedirs(save_path)\n",
        "\n",
        "oripath = \"plots/.\"\n",
        "!cp -a \"{oripath}\" \"{save_path}\" # copies files to google drive\n",
        "print(\"Done!\")"
      ]
    }
  ],
  "metadata": {
    "accelerator": "GPU",
    "colab": {
      "name": "test_model_ori.ipynb",
      "provenance": []
    },
    "kernelspec": {
      "display_name": "Python 3",
      "name": "python3"
    },
    "language_info": {
      "name": "python"
    },
    "orig_nbformat": 4
  },
  "nbformat": 4,
  "nbformat_minor": 0
}
