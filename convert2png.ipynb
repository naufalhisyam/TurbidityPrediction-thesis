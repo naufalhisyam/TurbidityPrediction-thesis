{
  "nbformat": 4,
  "nbformat_minor": 0,
  "metadata": {
    "colab": {
      "name": "convert2png.ipynb",
      "provenance": [],
      "collapsed_sections": [],
      "include_colab_link": true
    },
    "kernelspec": {
      "name": "python3",
      "display_name": "Python 3"
    },
    "language_info": {
      "name": "python"
    }
  },
  "cells": [
    {
      "cell_type": "markdown",
      "metadata": {
        "id": "view-in-github",
        "colab_type": "text"
      },
      "source": [
        "<a href=\"https://colab.research.google.com/github/naufalhisyam/TurbidityPrediction-thesis/blob/main/convert2png.ipynb\" target=\"_parent\"><img src=\"https://colab.research.google.com/assets/colab-badge.svg\" alt=\"Open In Colab\"/></a>"
      ]
    },
    {
      "cell_type": "markdown",
      "source": [
        "## **BATCH CONVERT FROM DNG TO PNG**"
      ],
      "metadata": {
        "id": "II9Z7Azb5N3R"
      }
    },
    {
      "cell_type": "markdown",
      "source": [
        "INITIALIZATION"
      ],
      "metadata": {
        "id": "_5rhnnmB4H83"
      }
    },
    {
      "cell_type": "code",
      "source": [
        "from google.colab import drive\n",
        "drive.mount('/content/gdrive')"
      ],
      "metadata": {
        "colab": {
          "base_uri": "https://localhost:8080/"
        },
        "id": "ktGjafTW5Vi3",
        "outputId": "e6c3556b-c7ae-4f8c-f342-85b7489fdeea"
      },
      "execution_count": 1,
      "outputs": [
        {
          "output_type": "stream",
          "name": "stdout",
          "text": [
            "Mounted at /content/gdrive\n"
          ]
        }
      ]
    },
    {
      "cell_type": "code",
      "execution_count": 2,
      "metadata": {
        "id": "krbxo01Qd_kM",
        "colab": {
          "base_uri": "https://localhost:8080/"
        },
        "outputId": "df2b1053-58e5-4420-d30a-a2ccee95abb2"
      },
      "outputs": [
        {
          "output_type": "stream",
          "name": "stdout",
          "text": [
            "Collecting rawpy\n",
            "  Downloading rawpy-0.17.1-cp37-cp37m-manylinux_2_17_x86_64.manylinux2014_x86_64.whl (1.9 MB)\n",
            "\u001b[K     |████████████████████████████████| 1.9 MB 8.3 MB/s \n",
            "\u001b[?25hRequirement already satisfied: numpy in /usr/local/lib/python3.7/dist-packages (from rawpy) (1.21.6)\n",
            "Installing collected packages: rawpy\n",
            "Successfully installed rawpy-0.17.1\n"
          ]
        }
      ],
      "source": [
        "import os\n",
        "import os.path\n",
        "import imageio\n",
        "import numpy as np\n",
        "!pip install rawpy\n",
        "import rawpy\n",
        "from skimage import exposure"
      ]
    },
    {
      "cell_type": "markdown",
      "source": [
        "DEFINE DIRECTORIES"
      ],
      "metadata": {
        "id": "jY9dqAIu4B6X"
      }
    },
    {
      "cell_type": "code",
      "source": [
        "dataset_name = \"0deg_LED_png\"\n",
        "your_dir_path = '/content/gdrive/MyDrive/DATA/ORI/0_degree_LED/BATCH1' # String. The path of your directory containing all your subdirectories\n",
        "new_dir_path = f'/content/{dataset_name}' # The path of your new directory with the same architecture as the previous one, but with cropped and aligned faces"
      ],
      "metadata": {
        "id": "jjTrhSDq31Dy"
      },
      "execution_count": null,
      "outputs": []
    },
    {
      "cell_type": "markdown",
      "source": [
        "MAIN CODE"
      ],
      "metadata": {
        "id": "MpLvU8OQ4E9P"
      }
    },
    {
      "cell_type": "code",
      "source": [
        "for subfolder in next(os.walk(your_dir_path))[1] : # Gives the list of all subdirectories inside the parent directory\n",
        "  os.makedirs(os.path.join(new_dir_path, subfolder)) # Creates the new subdirectory. Note that it will also create new_dir_path, so there's no need to add a line os.makedirs(new_dir_path)\n",
        "  for file in os.listdir(os.path.join(your_dir_path, subfolder)) : # Gives the list of all files inside the 'subfolder' directory\n",
        "    if file.endswith('.dng'):  \n",
        "      print(\"converting \" + str(file))\n",
        "      size = len(file)\n",
        "      filename = file[:size - 4]\n",
        "\n",
        "      raw = rawpy.imread(os.path.join(your_dir_path, subfolder, file))\n",
        "      # Postprocessing, i.e demosaicing here, will always \n",
        "      #change the original pixel values. Typically what you want\n",
        "      # is to get a linearly postprocessed image so that roughly \n",
        "      #the number of photons are in linear relation to the pixel values. \n",
        "      #You can do that with:\n",
        "      rgb = raw.postprocess(gamma=(1,1), no_auto_bright=True, output_bps=8)\n",
        "\n",
        "      #Apply gamma corrections: gamma values greater than 1 will shift the image histogram towards left and the output image will be darker than the input image. On the other hand, for gamma values less than 1, the histogram will shift towards right and the output image will be brighter than the input image.\n",
        "      #gamma_corrected_rgb = exposure.adjust_gamma(rgb, gamma=0.5, gain=1)\n",
        "      image=rgb\n",
        "\n",
        "      imageio.imsave(os.path.join(new_dir_path, subfolder, f'{filename}.png'), image)\n"
      ],
      "metadata": {
        "id": "ajdt7g5_loCY"
      },
      "execution_count": null,
      "outputs": []
    },
    {
      "cell_type": "markdown",
      "source": [
        "COPY TO DRIVE"
      ],
      "metadata": {
        "id": "7kFBw0Rs2A3k"
      }
    },
    {
      "cell_type": "code",
      "source": [
        "save_path = f\"/content/gdrive/MyDrive/DATA/PNG/{dataset_name}\"\n",
        "if not os.path.exists(save_path):\n",
        "  os.makedirs(save_path)\n",
        "\n",
        "oripath = new_dir_path + \"/.\"\n",
        "!cp -a \"{oripath}\" \"{save_path}\" # copies files to google drive"
      ],
      "metadata": {
        "id": "sSXpeGqF5UUq"
      },
      "execution_count": null,
      "outputs": []
    },
    {
      "cell_type": "markdown",
      "source": [
        "DELETE TEST FOLDER"
      ],
      "metadata": {
        "id": "jSA6BG7C0PA7"
      }
    },
    {
      "cell_type": "code",
      "source": [
        "from shutil import rmtree # deletes a folder\n",
        "rmtree(new_dir_path)"
      ],
      "metadata": {
        "id": "eUebynmL0FjK"
      },
      "execution_count": null,
      "outputs": []
    }
  ]
}