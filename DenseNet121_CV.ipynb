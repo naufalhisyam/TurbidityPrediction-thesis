{
  "cells": [
    {
      "cell_type": "markdown",
      "metadata": {
        "colab_type": "text",
        "id": "view-in-github"
      },
      "source": [
        "<a href=\"https://colab.research.google.com/github/naufalhisyam/TurbidityPrediction-thesis/blob/main/train_model_DenseNet121_CV.ipynb\" target=\"_parent\"><img src=\"https://colab.research.google.com/assets/colab-badge.svg\" alt=\"Open In Colab\"/></a>"
      ]
    },
    {
      "cell_type": "code",
      "execution_count": null,
      "metadata": {
        "colab": {
          "base_uri": "https://localhost:8080/"
        },
        "id": "DpSYbrzpM90P",
        "outputId": "20dfaa55-5168-484b-9664-714985aed852"
      },
      "outputs": [],
      "source": [
        "import os\n",
        "import datetime\n",
        "import numpy as np\n",
        "import pandas as pd\n",
        "import matplotlib.pyplot as plt\n",
        "import tensorflow as tf\n",
        "!pip install tensorflow-addons\n",
        "import tensorflow_addons as tfa\n",
        "from sklearn.model_selection import KFold, train_test_split"
      ]
    },
    {
      "cell_type": "code",
      "execution_count": null,
      "metadata": {
        "colab": {
          "base_uri": "https://localhost:8080/"
        },
        "id": "mKCAZxGrzo8m",
        "outputId": "4067111a-432d-45ef-8e93-617beaf6c4a2"
      },
      "outputs": [],
      "source": [
        "!git clone https://github.com/naufalhisyam/TurbidityPrediction-thesis.git\n",
        "os.chdir('/content/TurbidityPrediction-thesis') "
      ]
    },
    {
      "cell_type": "code",
      "execution_count": null,
      "metadata": {
        "id": "zNwDTsrAzo8o"
      },
      "outputs": [],
      "source": [
        "images = pd.read_csv(r'./Datasets/0degree_lowrange/0degInfo.csv') #load dataset info\n",
        "train_df, test_df = train_test_split(images, train_size=0.9, shuffle=True, random_state=1)\n",
        "Y = train_df[['Turbidity']]"
      ]
    },
    {
      "cell_type": "code",
      "execution_count": null,
      "metadata": {},
      "outputs": [],
      "source": [
        "VALIDATION_R2 = []\n",
        "VALIDATION_LOSS = []\n",
        "VALIDATION_MSE = []\n",
        "VALIDATION_MAE = []\n",
        "\n",
        "name = 'DenseNet_0deg_withTL'\n",
        "save_dir = f'saved_models/{name}'\n",
        "if not os.path.exists(save_dir):\n",
        "  os.makedirs(save_dir)"
      ]
    },
    {
      "cell_type": "code",
      "execution_count": null,
      "metadata": {
        "colab": {
          "base_uri": "https://localhost:8080/",
          "height": 35
        },
        "id": "_hHE40KdmqZI",
        "outputId": "8e7ca0d0-192d-42b9-936e-9d400ed98838"
      },
      "outputs": [],
      "source": [
        "def get_model():\n",
        "    #Create model\n",
        "    base_model = tf.keras.applications.DenseNet121(\n",
        "        include_top=False, weights='imagenet', \n",
        "        input_shape=(224, 224, 3), pooling='avg')\n",
        "    out = base_model.output\n",
        "    prediction = tf.keras.layers.Dense(1, activation=\"linear\")(out)\n",
        "    model = tf.keras.Model(inputs = base_model.input, outputs = prediction)\n",
        "\n",
        "    #Compile the model\n",
        "    \n",
        "    return model\n",
        "\n",
        "def get_model_name(k):\n",
        "    return 'densenet_'+str(k)+'.h5'\n",
        "\n",
        "tf.test.gpu_device_name()"
      ]
    },
    {
      "cell_type": "code",
      "execution_count": null,
      "metadata": {
        "id": "GiN2pSedmCqo"
      },
      "outputs": [],
      "source": [
        "train_generator = tf.keras.preprocessing.image.ImageDataGenerator(\n",
        "    horizontal_flip=True\n",
        ")\n",
        "\n",
        "test_generator = tf.keras.preprocessing.image.ImageDataGenerator(\n",
        "    horizontal_flip=True\n",
        ")\n",
        "\n",
        "kf = KFold(n_splits = 5)\n",
        "fold_var = 1"
      ]
    },
    {
      "cell_type": "code",
      "execution_count": null,
      "metadata": {
        "colab": {
          "base_uri": "https://localhost:8080/",
          "height": 1000
        },
        "id": "BQDemGIbml2O",
        "outputId": "bde05198-4c7a-4d78-fc8b-051cb4a7e695"
      },
      "outputs": [],
      "source": [
        "for train_index, val_index in kf.split(np.zeros(Y.shape[0]),Y):\n",
        "  training_data = train_df.iloc[train_index]\n",
        "  validation_data = train_df.iloc[val_index]\n",
        "\t\n",
        "  train_images = train_generator.flow_from_dataframe(training_data,\n",
        "                                                 x_col = \"Filepath\", y_col = \"Turbidity\",\n",
        "                                                 target_size=(224, 224), color_mode='rgb',\n",
        "                                                 class_mode = \"raw\", shuffle = True)\n",
        "  val_images  = train_generator.flow_from_dataframe(validation_data,\n",
        "                                                  x_col = \"Filepath\", y_col = \"Turbidity\",\n",
        "                                                  target_size=(224, 224), color_mode='rgb',\n",
        "                                                  class_mode = \"raw\", shuffle = True)\n",
        "\t\n",
        "\t# CREATE NEW MODEL\n",
        "  model = get_model()\n",
        "\t# COMPILE NEW MODEL\n",
        "  opt = tf.keras.optimizers.Adam(learning_rate=1e-4, decay=1e-6)\n",
        "  model.compile(loss=tf.keras.losses.Huber(), optimizer=opt, metrics=['mae','mse', tfa.metrics.RSquare(name=\"R2\")])\n",
        "\t\n",
        "\t# CREATE CALLBACKS\n",
        "  checkpoint_filepath = f'{save_dir}/{get_model_name(fold_var)}'\n",
        "  checkpoint = tf.keras.callbacks.ModelCheckpoint(filepath=checkpoint_filepath,\n",
        "                                                  monitor='val_loss', verbose=1, save_best_only=True, mode='min')\n",
        "  callbacks_list = [checkpoint]\n",
        "\t# There can be other callbacks, but just showing one because it involves the model name\n",
        "\t# This saves the best model\n",
        "\t# FIT THE MODEL\n",
        "  history = model.fit(train_images, epochs=100,\n",
        "                      callbacks=callbacks_list,\n",
        "                      validation_data=val_images)\n",
        "\t\n",
        "\t# LOAD BEST MODEL to evaluate the performance of the model\n",
        "  model.load_weights(f\"{save_dir}/densenet_\"+str(fold_var)+\".h5\")\n",
        "\t\n",
        "  results = model.evaluate(val_images)\n",
        "  results = dict(zip(model.metrics_names,results))\n",
        "\t\n",
        "  VALIDATION_R2.append(results['R2'])\n",
        "  VALIDATION_MAE.append(results['mae'])\n",
        "  VALIDATION_MSE.append(results['mse'])\n",
        "  VALIDATION_LOSS.append(results['loss'])\n",
        "\t\n",
        "  tf.keras.backend.clear_session()\n",
        "\t\n",
        "  fold_var += 1"
      ]
    },
    {
      "cell_type": "code",
      "execution_count": null,
      "metadata": {},
      "outputs": [],
      "source": [
        "train_images = train_generator.flow_from_dataframe(\n",
        "    dataframe=train_df,\n",
        "    x_col='Filepath',\n",
        "    y_col='Turbidity',\n",
        "    target_size=(224, 224),\n",
        "    color_mode='rgb',\n",
        "    class_mode='raw',\n",
        "    shuffle=False,\n",
        ")\n",
        "\n",
        "test_images = test_generator.flow_from_dataframe(\n",
        "    dataframe=test_df,\n",
        "    x_col='Filepath',\n",
        "    y_col='Turbidity',\n",
        "    target_size=(224, 224),\n",
        "    color_mode='rgb',\n",
        "    class_mode='raw',\n",
        "    shuffle=False\n",
        ")"
      ]
    },
    {
      "cell_type": "code",
      "execution_count": null,
      "metadata": {},
      "outputs": [],
      "source": [
        "min_fold = min(range(len(VALIDATION_LOSS)), key=VALIDATION_LOSS.__getitem__) + 1\n",
        "\n",
        "model = get_model()\n",
        "model.load_weights(f\"{save_dir}/densenet_\"+str(min_fold)+\".h5\")"
      ]
    },
    {
      "cell_type": "code",
      "execution_count": null,
      "metadata": {
        "id": "tFCSQyKH46W4"
      },
      "outputs": [],
      "source": [
        "test_pred = np.squeeze(model.predict(test_images))\n",
        "test_true = test_images.labels\n",
        "test_residuals = test_true - test_pred\n",
        "\n",
        "train_pred = np.squeeze(model.predict(train_images))\n",
        "train_true = train_images.labels\n",
        "train_residuals = train_true - train_pred\n",
        "\n",
        "train_score = model.evaluate(train_images)\n",
        "test_score = model.evaluate(test_images)\n",
        "print('test  ',test_score)\n",
        "print('train  ', train_score)"
      ]
    },
    {
      "cell_type": "code",
      "execution_count": null,
      "metadata": {
        "id": "OIQTkGf8SEUC"
      },
      "outputs": [],
      "source": [
        "f, axs = plt.subplots(1, 2, figsize=(8,6), gridspec_kw={'width_ratios': [4, 1]})\n",
        "\n",
        "f.suptitle(f'Residual Plot - {name}', fontsize=13, fontweight='bold',  y=0.92) \n",
        "axs[0].scatter(train_pred,train_residuals, label='Train Set', alpha=0.75, color='tab:blue')   \n",
        "axs[0].scatter(test_pred,test_residuals, label='Test Set', alpha=0.75, color='tab:orange')\n",
        "axs[0].set_ylabel('Residual (NTU)')\n",
        "axs[0].set_xlabel('Predicted Turbidity (NTU)')      \n",
        "axs[0].axhline(0, color='black')\n",
        "axs[0].legend()\n",
        "axs[0].grid()\n",
        "\n",
        "axs[1].hist(train_residuals, bins=50, orientation=\"horizontal\", density=True, alpha=0.9, color='tab:blue')\n",
        "axs[1].hist(test_residuals, bins=50, orientation=\"horizontal\", density=True, alpha=0.75, color='tab:orange')\n",
        "axs[1].axhline(0, color='black')\n",
        "axs[1].set_xlabel('Distribution')  \n",
        "axs[1].yaxis.tick_right()\n",
        "axs[1].grid(axis='y')\n",
        "\n",
        "plt.subplots_adjust(wspace=0.05)\n",
        "\n",
        "plt.savefig(f'{save_dir}/residualPlot_{name}.png', dpi=150)\n",
        "plt.show()"
      ]
    },
    {
      "cell_type": "code",
      "execution_count": null,
      "metadata": {},
      "outputs": [],
      "source": [
        "fig, ax = plt.subplots(1,2,figsize=(13,6))\n",
        "fig.suptitle(f'Nilai Prediksi vs Observasi - {name}', fontsize=13, fontweight='bold',  y=0.96)\n",
        "\n",
        "ax[0].scatter(test_true,test_pred, label=f'$Test\\ R^2=${round(test_score[3],3)}',color='tab:orange', alpha=0.75)\n",
        "theta = np.polyfit(test_true, test_pred, 1)\n",
        "y_line = theta[1] + theta[0] * test_true\n",
        "ax[0].plot([test_true.min(), test_true.max()], [y_line.min(), y_line.max()],'k--', lw=2,label='best fit')\n",
        "ax[0].plot([test_true.min(), test_true.max()], [test_true.min(), test_true.max()], 'k--', lw=2, label='identity',color='dimgray')\n",
        "ax[0].set_xlabel('Measured Turbidity (NTU)')\n",
        "ax[0].set_ylabel('Predicted Turbidity (NTU)')\n",
        "ax[0].set_title(f'Test Set', fontsize=10, fontweight='bold')\n",
        "ax[0].set_xlim([0, 130])\n",
        "ax[0].set_ylim([0, 130])\n",
        "ax[0].grid()\n",
        "ax[0].legend()\n",
        "\n",
        "ax[1].scatter(train_true,train_pred, label=f'$Train\\ R^2=${round(train_score[3],3)}', color='tab:blue', alpha=0.75)\n",
        "theta2 = np.polyfit(train_true, train_pred, 1)\n",
        "y_line2 = theta2[1] + theta2[0] * train_true\n",
        "ax[1].plot([train_true.min(), train_true.max()], [y_line2.min(), y_line2.max()],'k--', lw=2,label='best fit')\n",
        "ax[1].plot([train_true.min(), train_true.max()], [train_true.min(),train_true.max()], 'k--', lw=2, label='identity',color='dimgray')\n",
        "ax[1].set_xlabel('Measured Turbidity (NTU)')\n",
        "ax[1].set_ylabel('Predicted Turbidity (NTU)')\n",
        "ax[1].set_title(f'Train Set', fontsize=10, fontweight='bold')\n",
        "ax[1].set_xlim([0, 130])\n",
        "ax[1].set_ylim([0, 130])\n",
        "ax[1].grid()\n",
        "ax[1].legend()\n",
        "\n",
        "plt.savefig(f'{save_dir}/predErrorPlot_{name}.png', dpi=150)\n",
        "plt.show()"
      ]
    },
    {
      "cell_type": "code",
      "execution_count": null,
      "metadata": {},
      "outputs": [],
      "source": [
        "from google.colab import drive\n",
        "drive.mount('/content/gdrive')\n",
        "\n",
        "save_path = f\"/content/gdrive/MyDrive/MODEL BERHASIL/DenseNet/{name}\"\n",
        "if not os.path.exists(save_path):\n",
        "  os.makedirs(save_path)\n",
        "\n",
        "oripath = \"saved_models/.\"\n",
        "!cp -a \"{oripath}\" \"{save_path}\" # copies files to google drive"
      ]
    }
  ],
  "metadata": {
    "accelerator": "GPU",
    "colab": {
      "collapsed_sections": [],
      "include_colab_link": true,
      "name": "densenet_CV.ipynb",
      "provenance": []
    },
    "kernelspec": {
      "display_name": "Python 3",
      "name": "python3"
    },
    "language_info": {
      "name": "python"
    }
  },
  "nbformat": 4,
  "nbformat_minor": 0
}
