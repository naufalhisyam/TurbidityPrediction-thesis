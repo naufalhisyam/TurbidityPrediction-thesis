{
  "cells": [
    {
      "cell_type": "markdown",
      "metadata": {
        "id": "view-in-github",
        "colab_type": "text"
      },
      "source": [
        "<a href=\"https://colab.research.google.com/github/naufalhisyam/TurbidityPrediction-thesis/blob/main/train_model_DenseNet121_CV.ipynb\" target=\"_parent\"><img src=\"https://colab.research.google.com/assets/colab-badge.svg\" alt=\"Open In Colab\"/></a>"
      ]
    },
    {
      "cell_type": "code",
      "execution_count": 1,
      "metadata": {
        "id": "DpSYbrzpM90P",
        "outputId": "20dfaa55-5168-484b-9664-714985aed852",
        "colab": {
          "base_uri": "https://localhost:8080/"
        }
      },
      "outputs": [
        {
          "output_type": "stream",
          "name": "stdout",
          "text": [
            "Looking in indexes: https://pypi.org/simple, https://us-python.pkg.dev/colab-wheels/public/simple/\n",
            "Collecting tensorflow-addons\n",
            "  Downloading tensorflow_addons-0.17.0-cp37-cp37m-manylinux_2_17_x86_64.manylinux2014_x86_64.whl (1.1 MB)\n",
            "\u001b[K     |████████████████████████████████| 1.1 MB 14.3 MB/s \n",
            "\u001b[?25hRequirement already satisfied: packaging in /usr/local/lib/python3.7/dist-packages (from tensorflow-addons) (21.3)\n",
            "Requirement already satisfied: typeguard>=2.7 in /usr/local/lib/python3.7/dist-packages (from tensorflow-addons) (2.7.1)\n",
            "Requirement already satisfied: pyparsing!=3.0.5,>=2.0.2 in /usr/local/lib/python3.7/dist-packages (from packaging->tensorflow-addons) (3.0.9)\n",
            "Installing collected packages: tensorflow-addons\n",
            "Successfully installed tensorflow-addons-0.17.0\n"
          ]
        }
      ],
      "source": [
        "import os\n",
        "import datetime\n",
        "import numpy as np\n",
        "import pandas as pd\n",
        "import matplotlib.pyplot as plt\n",
        "import tensorflow as tf\n",
        "!pip install tensorflow-addons\n",
        "import tensorflow_addons as tfa\n",
        "from sklearn.model_selection import KFold\n",
        "%load_ext tensorboard"
      ]
    },
    {
      "cell_type": "code",
      "execution_count": 2,
      "metadata": {
        "id": "mKCAZxGrzo8m",
        "outputId": "4067111a-432d-45ef-8e93-617beaf6c4a2",
        "colab": {
          "base_uri": "https://localhost:8080/"
        }
      },
      "outputs": [
        {
          "output_type": "stream",
          "name": "stdout",
          "text": [
            "Cloning into 'TurbidityPrediction-thesis'...\n",
            "remote: Enumerating objects: 2998, done.\u001b[K\n",
            "remote: Counting objects: 100% (8/8), done.\u001b[K\n",
            "remote: Compressing objects: 100% (8/8), done.\u001b[K\n",
            "remote: Total 2998 (delta 2), reused 0 (delta 0), pack-reused 2990\u001b[K\n",
            "Receiving objects: 100% (2998/2998), 670.92 MiB | 31.20 MiB/s, done.\n",
            "Resolving deltas: 100% (131/131), done.\n",
            "Checking out files: 100% (2866/2866), done.\n"
          ]
        }
      ],
      "source": [
        "!git clone https://github.com/naufalhisyam/TurbidityPrediction-thesis.git\n",
        "os.chdir('/content/TurbidityPrediction-thesis') "
      ]
    },
    {
      "cell_type": "markdown",
      "metadata": {
        "id": "1CrL24L20ir7"
      },
      "source": [
        "**PREPARING DATASET**"
      ]
    },
    {
      "cell_type": "code",
      "execution_count": 3,
      "metadata": {
        "id": "zNwDTsrAzo8o"
      },
      "outputs": [],
      "source": [
        "images = pd.read_csv(r'./Datasets/0degree/0degInfo.csv') #load dataset info\n",
        "Y = images[['Turbidity']]"
      ]
    },
    {
      "cell_type": "code",
      "source": [
        "def get_model():\n",
        "    #Create model\n",
        "    base_model = tf.keras.applications.DenseNet121(\n",
        "        include_top=False, weights='imagenet', \n",
        "        input_shape=(224, 224, 3), pooling='avg')\n",
        "    out = base_model.output\n",
        "    prediction = tf.keras.layers.Dense(1, activation=\"linear\")(out)\n",
        "    model = tf.keras.Model(inputs = base_model.input, outputs = prediction)\n",
        "\n",
        "    #Compile the model\n",
        "    \n",
        "    return model\n",
        "\n",
        "tf.test.gpu_device_name()"
      ],
      "metadata": {
        "id": "_hHE40KdmqZI",
        "outputId": "8e7ca0d0-192d-42b9-936e-9d400ed98838",
        "colab": {
          "base_uri": "https://localhost:8080/",
          "height": 35
        }
      },
      "execution_count": 4,
      "outputs": [
        {
          "output_type": "execute_result",
          "data": {
            "text/plain": [
              "'/device:GPU:0'"
            ],
            "application/vnd.google.colaboratory.intrinsic+json": {
              "type": "string"
            }
          },
          "metadata": {},
          "execution_count": 4
        }
      ]
    },
    {
      "cell_type": "code",
      "source": [
        "kf = KFold(n_splits = 5)\n",
        "def get_model_name(k):\n",
        "    return 'model_'+str(k)+'.h5'"
      ],
      "metadata": {
        "id": "GiN2pSedmCqo"
      },
      "execution_count": 5,
      "outputs": []
    },
    {
      "cell_type": "code",
      "source": [
        "idg = tf.keras.preprocessing.image.ImageDataGenerator(horizontal_flip=True)"
      ],
      "metadata": {
        "id": "n5ZPMvgcmeHu"
      },
      "execution_count": 6,
      "outputs": []
    },
    {
      "cell_type": "code",
      "source": [
        "VALIDATION_R2 = []\n",
        "VALIDAITON_LOSS = []\n",
        "\n",
        "save_dir = '/saved_models/'\n",
        "fold_var = 1"
      ],
      "metadata": {
        "id": "e6PikPn4mZew"
      },
      "execution_count": 7,
      "outputs": []
    },
    {
      "cell_type": "code",
      "source": [
        "for train_index, val_index in kf.split(np.zeros(Y.shape[0]),Y):\n",
        "  training_data = images.iloc[train_index]\n",
        "  validation_data = images.iloc[val_index]\n",
        "\t\n",
        "  train_data_generator = idg.flow_from_dataframe(training_data,\n",
        "                                                 x_col = \"Filepath\", y_col = \"Turbidity\",\n",
        "                                                 target_size=(224, 224), color_mode='rgb',\n",
        "                                                 class_mode = \"raw\", shuffle =False)\n",
        "  valid_data_generator  = idg.flow_from_dataframe(validation_data,\n",
        "                                                  x_col = \"Filepath\", y_col = \"Turbidity\",\n",
        "                                                  target_size=(224, 224), color_mode='rgb',\n",
        "                                                  class_mode = \"raw\", shuffle = False)\n",
        "\t\n",
        "\t# CREATE NEW MODEL\n",
        "  model = get_model()\n",
        "\t# COMPILE NEW MODEL\n",
        "  opt = tf.keras.optimizers.Adam(learning_rate=1e-4)\n",
        "  model.compile(loss=tf.keras.losses.Huber(), optimizer=opt, metrics=[tfa.metrics.RSquare(name=\"R2\")])\n",
        "\t\n",
        "\t# CREATE CALLBACKS\n",
        "  checkpoint = tf.keras.callbacks.ModelCheckpoint(save_dir+get_model_name(fold_var), monitor='val_loss', verbose=1, save_best_only=True, mode='min')\n",
        "  callbacks_list = [checkpoint]\n",
        "\t# There can be other callbacks, but just showing one because it involves the model name\n",
        "\t# This saves the best model\n",
        "\t# FIT THE MODEL\n",
        "  history = model.fit(train_data_generator,\n",
        "                      epochs=50, batch_size=8,\n",
        "                      callbacks=callbacks_list,\n",
        "                      validation_data=valid_data_generator)\n",
        "\t#PLOT HISTORY\n",
        "\t#\t\t:\n",
        "\t#\t\t:\n",
        "\t\n",
        "\t# LOAD BEST MODEL to evaluate the performance of the model\n",
        "  model.load_weights(\"/saved_models/model_\"+str(fold_var)+\".h5\")\n",
        "\t\n",
        "  results = model.evaluate(valid_data_generator)\n",
        "  results = dict(zip(model.metrics_names,results))\n",
        "\t\n",
        "  VALIDATION_R2.append(results['R2'])\n",
        "  VALIDATION_LOSS.append(results['loss'])\n",
        "\t\n",
        "  tf.keras.backend.clear_session()\n",
        "\t\n",
        "  fold_var += 1"
      ],
      "metadata": {
        "id": "BQDemGIbml2O",
        "outputId": "bde05198-4c7a-4d78-fc8b-051cb4a7e695",
        "colab": {
          "base_uri": "https://localhost:8080/",
          "height": 1000
        }
      },
      "execution_count": 8,
      "outputs": [
        {
          "output_type": "stream",
          "name": "stdout",
          "text": [
            "Found 616 validated image filenames.\n",
            "Found 155 validated image filenames.\n",
            "Downloading data from https://storage.googleapis.com/tensorflow/keras-applications/densenet/densenet121_weights_tf_dim_ordering_tf_kernels_notop.h5\n",
            "29089792/29084464 [==============================] - 0s 0us/step\n",
            "29097984/29084464 [==============================] - 0s 0us/step\n",
            "Epoch 1/50\n",
            "20/20 [==============================] - ETA: 0s - loss: 90.5993 - R2: -2.4951\n",
            "Epoch 1: val_loss improved from inf to 89.67284, saving model to /saved_models/model_1.h5\n",
            "20/20 [==============================] - 53s 720ms/step - loss: 90.5993 - R2: -2.4951 - val_loss: 89.6728 - val_R2: -2.7249\n",
            "Epoch 2/50\n",
            "20/20 [==============================] - ETA: 0s - loss: 87.6742 - R2: -2.2728\n",
            "Epoch 2: val_loss improved from 89.67284 to 88.77078, saving model to /saved_models/model_1.h5\n",
            "20/20 [==============================] - 9s 431ms/step - loss: 87.6742 - R2: -2.2728 - val_loss: 88.7708 - val_R2: -2.6060\n",
            "Epoch 3/50\n",
            "20/20 [==============================] - ETA: 0s - loss: 85.2649 - R2: -2.1310\n",
            "Epoch 3: val_loss improved from 88.77078 to 85.57671, saving model to /saved_models/model_1.h5\n",
            "20/20 [==============================] - 9s 443ms/step - loss: 85.2649 - R2: -2.1310 - val_loss: 85.5767 - val_R2: -2.3960\n",
            "Epoch 4/50\n",
            "20/20 [==============================] - ETA: 0s - loss: 83.3973 - R2: -2.0320\n",
            "Epoch 4: val_loss improved from 85.57671 to 81.59037, saving model to /saved_models/model_1.h5\n",
            "20/20 [==============================] - 9s 459ms/step - loss: 83.3973 - R2: -2.0320 - val_loss: 81.5904 - val_R2: -2.1676\n",
            "Epoch 5/50\n",
            "20/20 [==============================] - ETA: 0s - loss: 81.8917 - R2: -1.9631\n",
            "Epoch 5: val_loss improved from 81.59037 to 79.30011, saving model to /saved_models/model_1.h5\n",
            "20/20 [==============================] - 9s 442ms/step - loss: 81.8917 - R2: -1.9631 - val_loss: 79.3001 - val_R2: -2.0439\n",
            "Epoch 6/50\n",
            "20/20 [==============================] - ETA: 0s - loss: 80.5600 - R2: -1.9013\n",
            "Epoch 6: val_loss improved from 79.30011 to 76.53387, saving model to /saved_models/model_1.h5\n",
            "20/20 [==============================] - 9s 440ms/step - loss: 80.5600 - R2: -1.9013 - val_loss: 76.5339 - val_R2: -1.9039\n",
            "Epoch 7/50\n",
            "20/20 [==============================] - ETA: 0s - loss: 79.2609 - R2: -1.8390\n",
            "Epoch 7: val_loss improved from 76.53387 to 74.25034, saving model to /saved_models/model_1.h5\n",
            "20/20 [==============================] - 9s 472ms/step - loss: 79.2609 - R2: -1.8390 - val_loss: 74.2503 - val_R2: -1.7971\n",
            "Epoch 8/50\n",
            "20/20 [==============================] - ETA: 0s - loss: 78.0213 - R2: -1.7757\n",
            "Epoch 8: val_loss improved from 74.25034 to 72.09678, saving model to /saved_models/model_1.h5\n",
            "20/20 [==============================] - 9s 445ms/step - loss: 78.0213 - R2: -1.7757 - val_loss: 72.0968 - val_R2: -1.6881\n",
            "Epoch 9/50\n",
            "20/20 [==============================] - ETA: 0s - loss: 76.8265 - R2: -1.7180\n",
            "Epoch 9: val_loss improved from 72.09678 to 70.10275, saving model to /saved_models/model_1.h5\n",
            "20/20 [==============================] - 9s 448ms/step - loss: 76.8265 - R2: -1.7180 - val_loss: 70.1027 - val_R2: -1.5801\n",
            "Epoch 10/50\n",
            "20/20 [==============================] - ETA: 0s - loss: 75.5971 - R2: -1.6478\n",
            "Epoch 10: val_loss improved from 70.10275 to 68.70572, saving model to /saved_models/model_1.h5\n",
            "20/20 [==============================] - 9s 445ms/step - loss: 75.5971 - R2: -1.6478 - val_loss: 68.7057 - val_R2: -1.5149\n",
            "Epoch 11/50\n",
            "20/20 [==============================] - ETA: 0s - loss: 74.5108 - R2: -1.5912\n",
            "Epoch 11: val_loss did not improve from 68.70572\n",
            "20/20 [==============================] - 8s 377ms/step - loss: 74.5108 - R2: -1.5912 - val_loss: 69.3021 - val_R2: -1.4760\n",
            "Epoch 12/50\n",
            "20/20 [==============================] - ETA: 0s - loss: 73.2837 - R2: -1.5246\n",
            "Epoch 12: val_loss improved from 68.70572 to 65.47680, saving model to /saved_models/model_1.h5\n",
            "20/20 [==============================] - 9s 442ms/step - loss: 73.2837 - R2: -1.5246 - val_loss: 65.4768 - val_R2: -1.3447\n",
            "Epoch 13/50\n",
            "20/20 [==============================] - ETA: 0s - loss: 72.0441 - R2: -1.4593\n",
            "Epoch 13: val_loss improved from 65.47680 to 64.61796, saving model to /saved_models/model_1.h5\n",
            "20/20 [==============================] - 9s 443ms/step - loss: 72.0441 - R2: -1.4593 - val_loss: 64.6180 - val_R2: -1.2870\n",
            "Epoch 14/50\n",
            "20/20 [==============================] - ETA: 0s - loss: 70.7437 - R2: -1.4031\n",
            "Epoch 14: val_loss improved from 64.61796 to 63.27123, saving model to /saved_models/model_1.h5\n",
            "20/20 [==============================] - 9s 441ms/step - loss: 70.7437 - R2: -1.4031 - val_loss: 63.2712 - val_R2: -1.2109\n",
            "Epoch 15/50\n",
            "20/20 [==============================] - ETA: 0s - loss: 69.5490 - R2: -1.3369\n",
            "Epoch 15: val_loss improved from 63.27123 to 62.81303, saving model to /saved_models/model_1.h5\n",
            "20/20 [==============================] - 9s 443ms/step - loss: 69.5490 - R2: -1.3369 - val_loss: 62.8130 - val_R2: -1.1617\n",
            "Epoch 16/50\n",
            "20/20 [==============================] - ETA: 0s - loss: 68.3632 - R2: -1.2757\n",
            "Epoch 16: val_loss improved from 62.81303 to 60.08636, saving model to /saved_models/model_1.h5\n",
            "20/20 [==============================] - 9s 442ms/step - loss: 68.3632 - R2: -1.2757 - val_loss: 60.0864 - val_R2: -1.0516\n",
            "Epoch 17/50\n",
            "20/20 [==============================] - ETA: 0s - loss: 67.0650 - R2: -1.2059\n",
            "Epoch 17: val_loss improved from 60.08636 to 59.91976, saving model to /saved_models/model_1.h5\n",
            "20/20 [==============================] - 9s 444ms/step - loss: 67.0650 - R2: -1.2059 - val_loss: 59.9198 - val_R2: -1.0145\n",
            "Epoch 18/50\n",
            "20/20 [==============================] - ETA: 0s - loss: 65.7734 - R2: -1.1626\n",
            "Epoch 18: val_loss did not improve from 59.91976\n",
            "20/20 [==============================] - 8s 378ms/step - loss: 65.7734 - R2: -1.1626 - val_loss: 60.5535 - val_R2: -0.9860\n",
            "Epoch 19/50\n",
            "20/20 [==============================] - ETA: 0s - loss: 64.5465 - R2: -1.0880\n",
            "Epoch 19: val_loss improved from 59.91976 to 56.41440, saving model to /saved_models/model_1.h5\n",
            "20/20 [==============================] - 9s 445ms/step - loss: 64.5465 - R2: -1.0880 - val_loss: 56.4144 - val_R2: -0.8487\n",
            "Epoch 20/50\n",
            "20/20 [==============================] - ETA: 0s - loss: 63.1895 - R2: -1.0324\n",
            "Epoch 20: val_loss improved from 56.41440 to 54.32486, saving model to /saved_models/model_1.h5\n",
            "20/20 [==============================] - 9s 444ms/step - loss: 63.1895 - R2: -1.0324 - val_loss: 54.3249 - val_R2: -0.7429\n",
            "Epoch 21/50\n",
            "20/20 [==============================] - ETA: 0s - loss: 61.8167 - R2: -0.9599\n",
            "Epoch 21: val_loss improved from 54.32486 to 52.55368, saving model to /saved_models/model_1.h5\n",
            "20/20 [==============================] - 9s 444ms/step - loss: 61.8167 - R2: -0.9599 - val_loss: 52.5537 - val_R2: -0.6826\n",
            "Epoch 22/50\n",
            "20/20 [==============================] - ETA: 0s - loss: 60.4656 - R2: -0.8963\n",
            "Epoch 22: val_loss improved from 52.55368 to 51.99973, saving model to /saved_models/model_1.h5\n",
            "20/20 [==============================] - 9s 441ms/step - loss: 60.4656 - R2: -0.8963 - val_loss: 51.9997 - val_R2: -0.6700\n",
            "Epoch 23/50\n",
            "20/20 [==============================] - ETA: 0s - loss: 59.1844 - R2: -0.8224\n",
            "Epoch 23: val_loss improved from 51.99973 to 50.67165, saving model to /saved_models/model_1.h5\n",
            "20/20 [==============================] - 9s 441ms/step - loss: 59.1844 - R2: -0.8224 - val_loss: 50.6717 - val_R2: -0.5798\n",
            "Epoch 24/50\n",
            "20/20 [==============================] - ETA: 0s - loss: 57.7361 - R2: -0.7698\n",
            "Epoch 24: val_loss improved from 50.67165 to 50.59998, saving model to /saved_models/model_1.h5\n",
            "20/20 [==============================] - 9s 442ms/step - loss: 57.7361 - R2: -0.7698 - val_loss: 50.6000 - val_R2: -0.5584\n",
            "Epoch 25/50\n",
            "20/20 [==============================] - ETA: 0s - loss: 56.4538 - R2: -0.6945\n",
            "Epoch 25: val_loss improved from 50.59998 to 46.92898, saving model to /saved_models/model_1.h5\n",
            "20/20 [==============================] - 9s 439ms/step - loss: 56.4538 - R2: -0.6945 - val_loss: 46.9290 - val_R2: -0.4127\n",
            "Epoch 26/50\n",
            "20/20 [==============================] - ETA: 0s - loss: 54.9524 - R2: -0.6360\n",
            "Epoch 26: val_loss improved from 46.92898 to 43.57755, saving model to /saved_models/model_1.h5\n",
            "20/20 [==============================] - 9s 442ms/step - loss: 54.9524 - R2: -0.6360 - val_loss: 43.5776 - val_R2: -0.2923\n",
            "Epoch 27/50\n",
            "20/20 [==============================] - ETA: 0s - loss: 53.4632 - R2: -0.5830\n",
            "Epoch 27: val_loss improved from 43.57755 to 42.11573, saving model to /saved_models/model_1.h5\n",
            "20/20 [==============================] - 9s 442ms/step - loss: 53.4632 - R2: -0.5830 - val_loss: 42.1157 - val_R2: -0.1948\n",
            "Epoch 28/50\n",
            "20/20 [==============================] - ETA: 0s - loss: 52.1246 - R2: -0.4982\n",
            "Epoch 28: val_loss improved from 42.11573 to 41.84776, saving model to /saved_models/model_1.h5\n",
            "20/20 [==============================] - 9s 451ms/step - loss: 52.1246 - R2: -0.4982 - val_loss: 41.8478 - val_R2: -0.1686\n",
            "Epoch 29/50\n",
            "20/20 [==============================] - ETA: 0s - loss: 50.5958 - R2: -0.4345\n",
            "Epoch 29: val_loss improved from 41.84776 to 40.31837, saving model to /saved_models/model_1.h5\n",
            "20/20 [==============================] - 9s 441ms/step - loss: 50.5958 - R2: -0.4345 - val_loss: 40.3184 - val_R2: -0.1650\n",
            "Epoch 30/50\n",
            "20/20 [==============================] - ETA: 0s - loss: 49.2051 - R2: -0.3737\n",
            "Epoch 30: val_loss did not improve from 40.31837\n",
            "20/20 [==============================] - 8s 376ms/step - loss: 49.2051 - R2: -0.3737 - val_loss: 42.3284 - val_R2: -0.1889\n",
            "Epoch 31/50\n",
            "20/20 [==============================] - ETA: 0s - loss: 47.6700 - R2: -0.3106\n",
            "Epoch 31: val_loss improved from 40.31837 to 37.52267, saving model to /saved_models/model_1.h5\n",
            "20/20 [==============================] - 9s 442ms/step - loss: 47.6700 - R2: -0.3106 - val_loss: 37.5227 - val_R2: -0.0038\n",
            "Epoch 32/50\n",
            "20/20 [==============================] - ETA: 0s - loss: 46.1438 - R2: -0.2453\n",
            "Epoch 32: val_loss improved from 37.52267 to 34.40392, saving model to /saved_models/model_1.h5\n",
            "20/20 [==============================] - 9s 442ms/step - loss: 46.1438 - R2: -0.2453 - val_loss: 34.4039 - val_R2: 0.0921\n",
            "Epoch 33/50\n",
            "20/20 [==============================] - ETA: 0s - loss: 44.6287 - R2: -0.1699\n",
            "Epoch 33: val_loss did not improve from 34.40392\n",
            "20/20 [==============================] - 8s 377ms/step - loss: 44.6287 - R2: -0.1699 - val_loss: 37.2398 - val_R2: 0.0062\n",
            "Epoch 34/50\n",
            "20/20 [==============================] - ETA: 0s - loss: 43.1864 - R2: -0.1149\n",
            "Epoch 34: val_loss improved from 34.40392 to 32.78882, saving model to /saved_models/model_1.h5\n",
            "20/20 [==============================] - 9s 441ms/step - loss: 43.1864 - R2: -0.1149 - val_loss: 32.7888 - val_R2: 0.1559\n",
            "Epoch 35/50\n",
            "20/20 [==============================] - ETA: 0s - loss: 41.5332 - R2: -0.0533\n",
            "Epoch 35: val_loss improved from 32.78882 to 31.79692, saving model to /saved_models/model_1.h5\n",
            "20/20 [==============================] - 9s 441ms/step - loss: 41.5332 - R2: -0.0533 - val_loss: 31.7969 - val_R2: 0.2267\n",
            "Epoch 36/50\n",
            "20/20 [==============================] - ETA: 0s - loss: 40.1583 - R2: 0.0116\n",
            "Epoch 36: val_loss did not improve from 31.79692\n",
            "20/20 [==============================] - 8s 376ms/step - loss: 40.1583 - R2: 0.0116 - val_loss: 34.6912 - val_R2: 0.1344\n",
            "Epoch 37/50\n",
            "20/20 [==============================] - ETA: 0s - loss: 38.4737 - R2: 0.0680\n",
            "Epoch 37: val_loss improved from 31.79692 to 30.10012, saving model to /saved_models/model_1.h5\n",
            "20/20 [==============================] - 9s 441ms/step - loss: 38.4737 - R2: 0.0680 - val_loss: 30.1001 - val_R2: 0.3270\n",
            "Epoch 38/50\n",
            "20/20 [==============================] - ETA: 0s - loss: 36.8011 - R2: 0.1303\n",
            "Epoch 38: val_loss did not improve from 30.10012\n",
            "20/20 [==============================] - 8s 376ms/step - loss: 36.8011 - R2: 0.1303 - val_loss: 31.7001 - val_R2: 0.2615\n",
            "Epoch 39/50\n",
            "20/20 [==============================] - ETA: 0s - loss: 35.3142 - R2: 0.1894\n",
            "Epoch 39: val_loss did not improve from 30.10012\n",
            "20/20 [==============================] - 8s 378ms/step - loss: 35.3142 - R2: 0.1894 - val_loss: 31.5632 - val_R2: 0.2719\n",
            "Epoch 40/50\n",
            "20/20 [==============================] - ETA: 0s - loss: 33.7270 - R2: 0.2646\n",
            "Epoch 40: val_loss improved from 30.10012 to 26.55388, saving model to /saved_models/model_1.h5\n",
            "20/20 [==============================] - 9s 445ms/step - loss: 33.7270 - R2: 0.2646 - val_loss: 26.5539 - val_R2: 0.4248\n",
            "Epoch 41/50\n",
            "20/20 [==============================] - ETA: 0s - loss: 32.4546 - R2: 0.3120\n",
            "Epoch 41: val_loss did not improve from 26.55388\n",
            "20/20 [==============================] - 8s 378ms/step - loss: 32.4546 - R2: 0.3120 - val_loss: 33.5580 - val_R2: 0.2174\n",
            "Epoch 42/50\n",
            "20/20 [==============================] - ETA: 0s - loss: 30.7001 - R2: 0.3573\n",
            "Epoch 42: val_loss improved from 26.55388 to 22.26085, saving model to /saved_models/model_1.h5\n",
            "20/20 [==============================] - 9s 443ms/step - loss: 30.7001 - R2: 0.3573 - val_loss: 22.2609 - val_R2: 0.5594\n",
            "Epoch 43/50\n",
            "20/20 [==============================] - ETA: 0s - loss: 29.1421 - R2: 0.4146\n",
            "Epoch 43: val_loss improved from 22.26085 to 19.13356, saving model to /saved_models/model_1.h5\n",
            "20/20 [==============================] - 9s 441ms/step - loss: 29.1421 - R2: 0.4146 - val_loss: 19.1336 - val_R2: 0.6438\n",
            "Epoch 44/50\n",
            "20/20 [==============================] - ETA: 0s - loss: 27.5229 - R2: 0.4627\n",
            "Epoch 44: val_loss did not improve from 19.13356\n",
            "20/20 [==============================] - 8s 376ms/step - loss: 27.5229 - R2: 0.4627 - val_loss: 25.2488 - val_R2: 0.4751\n",
            "Epoch 45/50\n",
            "20/20 [==============================] - ETA: 0s - loss: 26.0149 - R2: 0.5013\n",
            "Epoch 45: val_loss did not improve from 19.13356\n",
            "20/20 [==============================] - 8s 375ms/step - loss: 26.0149 - R2: 0.5013 - val_loss: 28.0011 - val_R2: 0.4508\n",
            "Epoch 46/50\n",
            "20/20 [==============================] - ETA: 0s - loss: 24.5570 - R2: 0.5651\n",
            "Epoch 46: val_loss did not improve from 19.13356\n",
            "20/20 [==============================] - 8s 376ms/step - loss: 24.5570 - R2: 0.5651 - val_loss: 25.0680 - val_R2: 0.5318\n",
            "Epoch 47/50\n",
            "20/20 [==============================] - ETA: 0s - loss: 23.0756 - R2: 0.6108\n",
            "Epoch 47: val_loss did not improve from 19.13356\n",
            "20/20 [==============================] - 8s 377ms/step - loss: 23.0756 - R2: 0.6108 - val_loss: 25.2995 - val_R2: 0.5513\n",
            "Epoch 48/50\n",
            "20/20 [==============================] - ETA: 0s - loss: 21.3034 - R2: 0.6533\n",
            "Epoch 48: val_loss did not improve from 19.13356\n",
            "20/20 [==============================] - 8s 377ms/step - loss: 21.3034 - R2: 0.6533 - val_loss: 23.6672 - val_R2: 0.6078\n",
            "Epoch 49/50\n",
            "20/20 [==============================] - ETA: 0s - loss: 20.1652 - R2: 0.6892\n",
            "Epoch 49: val_loss improved from 19.13356 to 11.84297, saving model to /saved_models/model_1.h5\n",
            "20/20 [==============================] - 9s 442ms/step - loss: 20.1652 - R2: 0.6892 - val_loss: 11.8430 - val_R2: 0.8670\n",
            "Epoch 50/50\n",
            "20/20 [==============================] - ETA: 0s - loss: 18.7456 - R2: 0.7350\n",
            "Epoch 50: val_loss did not improve from 11.84297\n",
            "20/20 [==============================] - 8s 377ms/step - loss: 18.7456 - R2: 0.7350 - val_loss: 18.5876 - val_R2: 0.7489\n",
            "5/5 [==============================] - 1s 99ms/step - loss: 11.9105 - R2: 0.8705\n"
          ]
        },
        {
          "output_type": "error",
          "ename": "NameError",
          "evalue": "ignored",
          "traceback": [
            "\u001b[0;31m---------------------------------------------------------------------------\u001b[0m",
            "\u001b[0;31mNameError\u001b[0m                                 Traceback (most recent call last)",
            "\u001b[0;32m<ipython-input-8-7870f2c33551>\u001b[0m in \u001b[0;36m<module>\u001b[0;34m()\u001b[0m\n\u001b[1;32m     38\u001b[0m   \u001b[0mresults\u001b[0m \u001b[0;34m=\u001b[0m \u001b[0mdict\u001b[0m\u001b[0;34m(\u001b[0m\u001b[0mzip\u001b[0m\u001b[0;34m(\u001b[0m\u001b[0mmodel\u001b[0m\u001b[0;34m.\u001b[0m\u001b[0mmetrics_names\u001b[0m\u001b[0;34m,\u001b[0m\u001b[0mresults\u001b[0m\u001b[0;34m)\u001b[0m\u001b[0;34m)\u001b[0m\u001b[0;34m\u001b[0m\u001b[0;34m\u001b[0m\u001b[0m\n\u001b[1;32m     39\u001b[0m \u001b[0;34m\u001b[0m\u001b[0m\n\u001b[0;32m---> 40\u001b[0;31m   \u001b[0mVALIDATION_R2\u001b[0m\u001b[0;34m.\u001b[0m\u001b[0mappend\u001b[0m\u001b[0;34m(\u001b[0m\u001b[0mresults\u001b[0m\u001b[0;34m[\u001b[0m\u001b[0;34m'R2'\u001b[0m\u001b[0;34m]\u001b[0m\u001b[0;34m)\u001b[0m\u001b[0;34m\u001b[0m\u001b[0;34m\u001b[0m\u001b[0m\n\u001b[0m\u001b[1;32m     41\u001b[0m   \u001b[0mVALIDATION_LOSS\u001b[0m\u001b[0;34m.\u001b[0m\u001b[0mappend\u001b[0m\u001b[0;34m(\u001b[0m\u001b[0mresults\u001b[0m\u001b[0;34m[\u001b[0m\u001b[0;34m'loss'\u001b[0m\u001b[0;34m]\u001b[0m\u001b[0;34m)\u001b[0m\u001b[0;34m\u001b[0m\u001b[0;34m\u001b[0m\u001b[0m\n\u001b[1;32m     42\u001b[0m \u001b[0;34m\u001b[0m\u001b[0m\n",
            "\u001b[0;31mNameError\u001b[0m: name 'VALIDATION_R2' is not defined"
          ]
        }
      ]
    },
    {
      "cell_type": "markdown",
      "metadata": {
        "id": "woSoOSOwzo8q"
      },
      "source": [
        "**CREATING THE MODEL**"
      ]
    },
    {
      "cell_type": "markdown",
      "metadata": {
        "id": "eyGUAtAJdnFQ"
      },
      "source": [
        "Model Architecture"
      ]
    },
    {
      "cell_type": "code",
      "execution_count": null,
      "metadata": {
        "id": "tFCSQyKH46W4"
      },
      "outputs": [],
      "source": [
        "pred_turbid = np.squeeze(model.predict(test_images))\n",
        "true_turbid = test_images.labels\n",
        "residuals = true_turbid - pred_turbid"
      ]
    },
    {
      "cell_type": "code",
      "execution_count": null,
      "metadata": {
        "id": "OIQTkGf8SEUC"
      },
      "outputs": [],
      "source": [
        "f, axs = plt.subplots(1, 2, figsize=(8,5), gridspec_kw={'width_ratios': [4, 1]})\n",
        "\n",
        "axs[0].scatter(pred_turbid,residuals)\n",
        "axs[0].set_title('Residual Plot dari Model DenseNet-121', fontsize=13, fontweight='bold')           \n",
        "axs[0].set_ylabel('Residual')\n",
        "axs[0].set_xlabel('Predicted Turbidity')      \n",
        "axs[0].axhline(0, color='black')\n",
        "axs[0].grid()\n",
        "\n",
        "axs[1].hist(residuals, bins=40, orientation=\"horizontal\", density=True)\n",
        "axs[1].axhline(0, color='black')\n",
        "axs[1].set_xlabel('Distribution')  \n",
        "axs[1].yaxis.tick_right()\n",
        "axs[1].grid(axis='y')\n",
        "\n",
        "plt.subplots_adjust(wspace=0.05)\n",
        "plt.savefig(f'saved_model/{name}/residualPlot_{name}.png', dpi=150)\n",
        "plt.show()"
      ]
    },
    {
      "cell_type": "code",
      "execution_count": null,
      "metadata": {
        "id": "OjeQEjhyUom-"
      },
      "outputs": [],
      "source": [
        "ms_error = history.history['loss']\n",
        "val_ms_error = history.history['val_loss']\n",
        "ma_error = history.history['mae']\n",
        "val_ma_error = history.history['val_mae']\n",
        "r2 = history.history['R2']\n",
        "val_r2 = history.history['val_R2']\n",
        "\n",
        "epochs = range(1, len(ms_error) + 1)\n",
        "\n",
        "f, axs = plt.subplots(3, 1, figsize=(6,14))\n",
        "axs[0].plot(epochs, ms_error, 'tab:orange', label='train_loss (mse)')\n",
        "axs[0].plot(epochs, val_ms_error, 'tab:blue', label='val_loss (mse)')\n",
        "axs[0].set_title('MSE Selama Training', fontsize=13, fontweight='bold')\n",
        "axs[0].set_xlabel('Epoch')\n",
        "axs[0].set_ylabel('MSE')\n",
        "axs[0].legend(facecolor='white')\n",
        "axs[0].grid()\n",
        "\n",
        "axs[1].plot(epochs, ma_error, 'tab:orange', label='train_mae')\n",
        "axs[1].plot(epochs, val_ma_error, 'tab:blue', label='val_mae')\n",
        "axs[1].set_title('MAE Selama Training', fontsize=13, fontweight='bold')\n",
        "axs[1].set_xlabel('Epoch')\n",
        "axs[1].set_ylabel('MAE')\n",
        "axs[1].legend(facecolor='white')\n",
        "axs[1].grid()\n",
        "\n",
        "axs[2].plot(epochs, r2, 'tab:orange', label='train_R2')\n",
        "axs[2].plot(epochs, val_r2, 'tab:blue', label='val_R2')\n",
        "axs[2].set_title('$R^2$ Selama Training', fontsize=13, fontweight='bold')\n",
        "axs[2].set_xlabel('Epoch')\n",
        "axs[2].set_ylabel('$R^2$')\n",
        "axs[2].legend(facecolor='white')\n",
        "axs[2].grid()\n",
        "\n",
        "plt.tight_layout()\n",
        "plt.savefig(f'saved_model/{name}/trainPlot_{name}.png', dpi=150)\n",
        "plt.show()"
      ]
    },
    {
      "cell_type": "markdown",
      "metadata": {
        "id": "q9z88MX_jdvF"
      },
      "source": [
        "Copy to Drive"
      ]
    },
    {
      "cell_type": "code",
      "execution_count": null,
      "metadata": {
        "id": "dDRWzVhPZ9qj"
      },
      "outputs": [],
      "source": [
        "from google.colab import drive\n",
        "drive.mount('/content/gdrive')\n",
        "\n",
        "model_name = 'DenseNet_90deg_imagenet_lr1e-4_decay1e-3_bs8_huber'\n",
        "\n",
        "save_path = f\"/content/gdrive/MyDrive/Hasil_Training/DenseNet/{model_name}\"\n",
        "if not os.path.exists(save_path):\n",
        "  os.makedirs(save_path)\n",
        "\n",
        "oripath = \"saved_model/.\"\n",
        "!cp -a \"{oripath}\" \"{save_path}\" # copies files to google drive"
      ]
    }
  ],
  "metadata": {
    "accelerator": "GPU",
    "colab": {
      "collapsed_sections": [],
      "name": "train_model_densenet.ipynb",
      "provenance": [],
      "include_colab_link": true
    },
    "kernelspec": {
      "display_name": "Python 3",
      "name": "python3"
    },
    "language_info": {
      "name": "python"
    }
  },
  "nbformat": 4,
  "nbformat_minor": 0
}