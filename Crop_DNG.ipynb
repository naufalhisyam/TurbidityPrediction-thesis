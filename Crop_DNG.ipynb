{
  "nbformat": 4,
  "nbformat_minor": 0,
  "metadata": {
    "colab": {
      "name": "Crop DNG",
      "provenance": [],
      "authorship_tag": "ABX9TyOxflrqLkvsyLkgqg7N+R+h",
      "include_colab_link": true
    },
    "kernelspec": {
      "name": "python3",
      "display_name": "Python 3"
    },
    "language_info": {
      "name": "python"
    }
  },
  "cells": [
    {
      "cell_type": "markdown",
      "metadata": {
        "id": "view-in-github",
        "colab_type": "text"
      },
      "source": [
        "<a href=\"https://colab.research.google.com/github/naufalhisyam/TurbidityPrediction-thesis/blob/main/Crop_DNG.ipynb\" target=\"_parent\"><img src=\"https://colab.research.google.com/assets/colab-badge.svg\" alt=\"Open In Colab\"/></a>"
      ]
    },
    {
      "cell_type": "code",
      "source": [
        "!pip install rawpy"
      ],
      "metadata": {
        "id": "sxsyweL09CwG"
      },
      "execution_count": null,
      "outputs": []
    },
    {
      "cell_type": "code",
      "source": [
        "from google.colab import drive\n",
        "drive.mount('/content/gdrive')"
      ],
      "metadata": {
        "id": "_6C7nikp9D57"
      },
      "execution_count": null,
      "outputs": []
    },
    {
      "cell_type": "code",
      "source": [
        "import os\n",
        "import cv2\n",
        "import rawpy\n",
        "import numpy as np\n",
        "from matplotlib import pyplot as plt\n",
        "\n",
        "path = \"/content/gdrive/MyDrive/tes_citra\""
      ],
      "metadata": {
        "id": "YMv62ukN9E41"
      },
      "execution_count": null,
      "outputs": []
    },
    {
      "cell_type": "code",
      "execution_count": null,
      "metadata": {
        "id": "nOfvNOS29AMA"
      },
      "outputs": [],
      "source": [
        "name = '0degree'\n",
        "path = '/content/gdrive/MyDrive/tes_citra/0degree.dng'\n",
        "raw = rawpy.imread(path)\n",
        "rgb = raw.postprocess()\n",
        "img_bgr = rgb\n",
        "\n",
        "plt.imshow(img_bgr)\n",
        "plt.show()"
      ]
    },
    {
      "cell_type": "code",
      "source": [
        "cropped_image = img_bgr[800:2900, 2000:2600]\n",
        "plt.imshow(cropped_image)\n",
        "plt.show()"
      ],
      "metadata": {
        "id": "MWC7UgIb9J3d"
      },
      "execution_count": null,
      "outputs": []
    },
    {
      "cell_type": "code",
      "source": [
        "os.makedirs(\"/content/gdrive/MyDrive/tes_citra/hasil\", exist_ok=True)\n",
        "os.makedirs(\"/content/hasil\", exist_ok=True)\n",
        "cv2.imwrite(f'/content/hasil/{name}_cropped.jpg', cropped_image)\n",
        "!cp -a \"/content/hasil/.\" \"/content/gdrive/MyDrive/tes_citra/hasil\""
      ],
      "metadata": {
        "id": "cJOm6tzM9K2i"
      },
      "execution_count": null,
      "outputs": []
    }
  ]
}