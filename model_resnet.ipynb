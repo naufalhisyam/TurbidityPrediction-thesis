{
  "nbformat": 4,
  "nbformat_minor": 0,
  "metadata": {
    "colab": {
      "name": "model_resnet.ipynb",
      "provenance": [],
      "authorship_tag": "ABX9TyN0i6vZDzENYr/evVcXpU1v",
      "include_colab_link": true
    },
    "kernelspec": {
      "name": "python3",
      "display_name": "Python 3"
    },
    "language_info": {
      "name": "python"
    }
  },
  "cells": [
    {
      "cell_type": "markdown",
      "metadata": {
        "id": "view-in-github",
        "colab_type": "text"
      },
      "source": [
        "<a href=\"https://colab.research.google.com/github/naufalhisyam/TurbidityPrediction-thesis/blob/main/model_resnet.ipynb\" target=\"_parent\"><img src=\"https://colab.research.google.com/assets/colab-badge.svg\" alt=\"Open In Colab\"/></a>"
      ]
    },
    {
      "cell_type": "code",
      "execution_count": null,
      "metadata": {
        "id": "DpSYbrzpM90P"
      },
      "outputs": [],
      "source": [
        "import numpy as np\n",
        "import tensorflow as tf\n",
        "from tensorflow import keras"
      ]
    },
    {
      "cell_type": "code",
      "source": [
        "base_model = tf.keras.applications.ResNet50(include_top=False, weights=\"imagenet\",\n",
        "                                            input_shape=(224, 224, 3), pooling=None)\n",
        "base_model.trainable = False\n",
        "inputs = keras.Input(shape=(150, 150, 3))"
      ],
      "metadata": {
        "id": "rQToQ6MENCTt"
      },
      "execution_count": null,
      "outputs": []
    }
  ]
}