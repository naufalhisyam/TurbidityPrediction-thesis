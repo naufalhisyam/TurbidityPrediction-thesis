{
  "nbformat": 4,
  "nbformat_minor": 0,
  "metadata": {
    "colab": {
      "name": "model_resnet.ipynb",
      "provenance": [],
      "collapsed_sections": [],
      "authorship_tag": "ABX9TyMeTz3qF8B9GYvbBqtfP45H",
      "include_colab_link": true
    },
    "kernelspec": {
      "name": "python3",
      "display_name": "Python 3"
    },
    "language_info": {
      "name": "python"
    }
  },
  "cells": [
    {
      "cell_type": "markdown",
      "metadata": {
        "id": "view-in-github",
        "colab_type": "text"
      },
      "source": [
        "<a href=\"https://colab.research.google.com/github/naufalhisyam/TurbidityPrediction-thesis/blob/main/model_resnet.ipynb\" target=\"_parent\"><img src=\"https://colab.research.google.com/assets/colab-badge.svg\" alt=\"Open In Colab\"/></a>"
      ]
    },
    {
      "cell_type": "code",
      "execution_count": 1,
      "metadata": {
        "id": "DpSYbrzpM90P"
      },
      "outputs": [],
      "source": [
        "import numpy as np\n",
        "import tensorflow as tf\n",
        "import tensorflow_addons as tfa\n",
        "from tensorflow import keras"
      ]
    },
    {
      "cell_type": "markdown",
      "source": [
        "**PREPARING DATASET**"
      ],
      "metadata": {
        "id": "1CrL24L20ir7"
      }
    },
    {
      "cell_type": "markdown",
      "source": [
        "Model Architecture"
      ],
      "metadata": {
        "id": "eyGUAtAJdnFQ"
      }
    },
    {
      "cell_type": "code",
      "source": [
        "base_model = keras.applications.ResNet50(include_top=False, weights=None, \n",
        "                                            input_shape=(224, 224, 3), pooling='avg')\n",
        "#base_model.trainable = False\n",
        "x = base_model.output\n",
        "prediction = keras.layers.Dense(1, activation=\"linear\")(x)\n",
        "model = keras.Model(inputs = base_model.input, outputs = prediction)"
      ],
      "metadata": {
        "id": "rQToQ6MENCTt"
      },
      "execution_count": 2,
      "outputs": []
    },
    {
      "cell_type": "markdown",
      "source": [
        "Model Config"
      ],
      "metadata": {
        "id": "bXx8kAzudpBi"
      }
    },
    {
      "cell_type": "code",
      "source": [
        "opt = keras.optimizers.Adam(lr=1e-3, decay=1e-3 / 200)\n",
        "model.compile(loss=\"mse\", optimizer=opt,\n",
        "              metrics=['mse', 'mape', tfa.metrics.RSquare(name=\"R2\", y_shape=(1,))])"
      ],
      "metadata": {
        "id": "orrDvVYWbjKC"
      },
      "execution_count": null,
      "outputs": []
    },
    {
      "cell_type": "markdown",
      "source": [
        "Train Model"
      ],
      "metadata": {
        "id": "Z1rINXUigLTK"
      }
    },
    {
      "cell_type": "code",
      "source": [
        "print(\"[INFO] training model...\")\n",
        "model.fit(x=trainImagesX, y=trainY, \n",
        "    validation_data=(testImagesX, testY),\n",
        "    epochs=200, batch_size=8)"
      ],
      "metadata": {
        "id": "zV2nFqfLf5yB"
      },
      "execution_count": null,
      "outputs": []
    },
    {
      "cell_type": "markdown",
      "source": [
        "Model Summary"
      ],
      "metadata": {
        "id": "z7FnC4Q2gXGL"
      }
    },
    {
      "cell_type": "code",
      "source": [
        "model.summary()"
      ],
      "metadata": {
        "id": "OjeQEjhyUom-"
      },
      "execution_count": null,
      "outputs": []
    },
    {
      "cell_type": "code",
      "source": [
        "keras.utils.plot_model(model, \"my_first_model.png\", show_shapes=False)"
      ],
      "metadata": {
        "id": "4ulR_BoUQ0fT"
      },
      "execution_count": null,
      "outputs": []
    }
  ]
}